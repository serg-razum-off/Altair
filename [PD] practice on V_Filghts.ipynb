{
 "cells": [
  {
   "attachments": {},
   "cell_type": "markdown",
   "metadata": {},
   "source": [
    "# Playground for Pandas.plot() on Vega Airports dataset"
   ]
  },
  {
   "attachments": {},
   "cell_type": "markdown",
   "metadata": {},
   "source": [
    "### 1️⃣ Imports and loading DS"
   ]
  },
  {
   "cell_type": "code",
   "execution_count": 1,
   "metadata": {},
   "outputs": [
    {
     "name": "stdout",
     "output_type": "stream",
     "text": [
      "My functions import --> \n",
      "\t\t\t...Done\n"
     ]
    }
   ],
   "source": [
    "print(\"My functions import --> \")\n",
    "\n",
    "from Classes.Py.DotDict import DotDict\n",
    "from Classes.Py.SuppressStdOut import SuppressStdout\n",
    "\n",
    "from Functions.General_Func import print_X, delete_variables\n",
    "from Functions.Airports_Helpers import get_wiki_airports, get_wiki_airports_US\n",
    "\n",
    "print(\"\\t\\t\\t...Done\")"
   ]
  },
  {
   "cell_type": "code",
   "execution_count": 2,
   "metadata": {},
   "outputs": [
    {
     "name": "stdout",
     "output_type": "stream",
     "text": [
      "======================= General Imports =======================\n",
      "...Done\n"
     ]
    }
   ],
   "source": [
    "print_X(\"General Imports\")\n",
    "\n",
    "import gc\n",
    "import pandas as pd\n",
    "import numpy as np\n",
    "from dtale import show as dt_show\n",
    "from matplotlib import pyplot as plt\n",
    "\n",
    "from seaborn import heatmap\n",
    "import plotly.graph_objects as go\n",
    "\n",
    "print(\"...Done\")"
   ]
  },
  {
   "attachments": {},
   "cell_type": "markdown",
   "metadata": {},
   "source": [
    "#### EDA -- Loading + First Look at the data: num of Flights by Year / Month"
   ]
  },
  {
   "cell_type": "code",
   "execution_count": 3,
   "metadata": {},
   "outputs": [],
   "source": [
    "# df_flights = pd.read_csv('https://raw.githubusercontent.com/vega/vega-datasets/main/data/flights-3m.csv')\n",
    "\n",
    "df_flights = (\n",
    "    pd.read_pickle('./Data/vega_datasets.pkl')\n",
    "        .loc['flights-3m.csv']['DF']\n",
    "        .assign(\n",
    "            origin=lambda x: x['origin'].astype('category'),\n",
    "            destination=lambda x: x['destination'].astype('category')\n",
    "        )\n",
    ")"
   ]
  },
  {
   "attachments": {},
   "cell_type": "markdown",
   "metadata": {},
   "source": [
    "😏 By converting from txt to Cat dtype, 8.8Mb --> 5.7Mb == 46% of the DF weight was saved"
   ]
  },
  {
   "cell_type": "code",
   "execution_count": 4,
   "metadata": {},
   "outputs": [
    {
     "name": "stdout",
     "output_type": "stream",
     "text": [
      "====================== Initially loaded ======================\n"
     ]
    },
    {
     "data": {
      "text/html": [
       "<div>\n",
       "<style scoped>\n",
       "    .dataframe tbody tr th:only-of-type {\n",
       "        vertical-align: middle;\n",
       "    }\n",
       "\n",
       "    .dataframe tbody tr th {\n",
       "        vertical-align: top;\n",
       "    }\n",
       "\n",
       "    .dataframe thead th {\n",
       "        text-align: right;\n",
       "    }\n",
       "</style>\n",
       "<table border=\"1\" class=\"dataframe\">\n",
       "  <thead>\n",
       "    <tr style=\"text-align: right;\">\n",
       "      <th></th>\n",
       "      <th>date</th>\n",
       "      <th>delay</th>\n",
       "      <th>distance</th>\n",
       "      <th>origin</th>\n",
       "      <th>destination</th>\n",
       "    </tr>\n",
       "  </thead>\n",
       "  <tbody>\n",
       "    <tr>\n",
       "      <th>0</th>\n",
       "      <td>1010001</td>\n",
       "      <td>14</td>\n",
       "      <td>405</td>\n",
       "      <td>MCI</td>\n",
       "      <td>MDW</td>\n",
       "    </tr>\n",
       "    <tr>\n",
       "      <th>1</th>\n",
       "      <td>1010530</td>\n",
       "      <td>-11</td>\n",
       "      <td>370</td>\n",
       "      <td>LAX</td>\n",
       "      <td>PHX</td>\n",
       "    </tr>\n",
       "    <tr>\n",
       "      <th>2</th>\n",
       "      <td>1010540</td>\n",
       "      <td>5</td>\n",
       "      <td>389</td>\n",
       "      <td>ONT</td>\n",
       "      <td>SMF</td>\n",
       "    </tr>\n",
       "  </tbody>\n",
       "</table>\n",
       "</div>"
      ],
      "text/plain": [
       "      date  delay  distance origin destination\n",
       "0  1010001     14       405    MCI         MDW\n",
       "1  1010530    -11       370    LAX         PHX\n",
       "2  1010540      5       389    ONT         SMF"
      ]
     },
     "execution_count": 4,
     "metadata": {},
     "output_type": "execute_result"
    }
   ],
   "source": [
    "# from math import ceil\n",
    "print_X(\"Initially loaded\")\n",
    "df_flights[:3]"
   ]
  },
  {
   "cell_type": "code",
   "execution_count": 5,
   "metadata": {},
   "outputs": [
    {
     "name": "stdout",
     "output_type": "stream",
     "text": [
      "======================= Converted date =======================\n"
     ]
    },
    {
     "data": {
      "text/html": [
       "<div>\n",
       "<style scoped>\n",
       "    .dataframe tbody tr th:only-of-type {\n",
       "        vertical-align: middle;\n",
       "    }\n",
       "\n",
       "    .dataframe tbody tr th {\n",
       "        vertical-align: top;\n",
       "    }\n",
       "\n",
       "    .dataframe thead th {\n",
       "        text-align: right;\n",
       "    }\n",
       "</style>\n",
       "<table border=\"1\" class=\"dataframe\">\n",
       "  <thead>\n",
       "    <tr style=\"text-align: right;\">\n",
       "      <th></th>\n",
       "      <th>date</th>\n",
       "      <th>delay</th>\n",
       "      <th>distance</th>\n",
       "      <th>origin</th>\n",
       "      <th>destination</th>\n",
       "    </tr>\n",
       "  </thead>\n",
       "  <tbody>\n",
       "    <tr>\n",
       "      <th>0</th>\n",
       "      <td>1971-12-03 09:21:00</td>\n",
       "      <td>14</td>\n",
       "      <td>405</td>\n",
       "      <td>MCI</td>\n",
       "      <td>MDW</td>\n",
       "    </tr>\n",
       "    <tr>\n",
       "      <th>1</th>\n",
       "      <td>1971-12-03 18:10:00</td>\n",
       "      <td>-11</td>\n",
       "      <td>370</td>\n",
       "      <td>LAX</td>\n",
       "      <td>PHX</td>\n",
       "    </tr>\n",
       "    <tr>\n",
       "      <th>2</th>\n",
       "      <td>1971-12-03 18:20:00</td>\n",
       "      <td>5</td>\n",
       "      <td>389</td>\n",
       "      <td>ONT</td>\n",
       "      <td>SMF</td>\n",
       "    </tr>\n",
       "  </tbody>\n",
       "</table>\n",
       "</div>"
      ],
      "text/plain": [
       "                 date  delay  distance origin destination\n",
       "0 1971-12-03 09:21:00     14       405    MCI         MDW\n",
       "1 1971-12-03 18:10:00    -11       370    LAX         PHX\n",
       "2 1971-12-03 18:20:00      5       389    ONT         SMF"
      ]
     },
     "execution_count": 5,
     "metadata": {},
     "output_type": "execute_result"
    }
   ],
   "source": [
    "print_X(\"Converted date\")\n",
    "df_flights['date'] =  pd.to_datetime(df_flights['date'], unit=\"m\")\n",
    "df_flights[:3]"
   ]
  },
  {
   "cell_type": "code",
   "execution_count": 6,
   "metadata": {},
   "outputs": [
    {
     "name": "stdout",
     "output_type": "stream",
     "text": [
      "============================ Info ============================\n",
      "<class 'pandas.core.frame.DataFrame'>\n",
      "RangeIndex: 231083 entries, 0 to 231082\n",
      "Data columns (total 5 columns):\n",
      " #   Column       Non-Null Count   Dtype         \n",
      "---  ------       --------------   -----         \n",
      " 0   date         231083 non-null  datetime64[ns]\n",
      " 1   delay        231083 non-null  int64         \n",
      " 2   distance     231083 non-null  int64         \n",
      " 3   origin       231083 non-null  category      \n",
      " 4   destination  231083 non-null  category      \n",
      "dtypes: category(2), datetime64[ns](1), int64(2)\n",
      "memory usage: 5.7 MB\n"
     ]
    }
   ],
   "source": [
    "print_X(\"Info\")\n",
    "df_flights.info()"
   ]
  },
  {
   "cell_type": "code",
   "execution_count": 7,
   "metadata": {},
   "outputs": [
    {
     "name": "stdout",
     "output_type": "stream",
     "text": [
      "============================ Descr ============================\n"
     ]
    },
    {
     "data": {
      "text/html": [
       "<div>\n",
       "<style scoped>\n",
       "    .dataframe tbody tr th:only-of-type {\n",
       "        vertical-align: middle;\n",
       "    }\n",
       "\n",
       "    .dataframe tbody tr th {\n",
       "        vertical-align: top;\n",
       "    }\n",
       "\n",
       "    .dataframe thead th {\n",
       "        text-align: right;\n",
       "    }\n",
       "</style>\n",
       "<table border=\"1\" class=\"dataframe\">\n",
       "  <thead>\n",
       "    <tr style=\"text-align: right;\">\n",
       "      <th></th>\n",
       "      <th>date</th>\n",
       "      <th>delay</th>\n",
       "      <th>distance</th>\n",
       "      <th>origin</th>\n",
       "      <th>destination</th>\n",
       "    </tr>\n",
       "  </thead>\n",
       "  <tbody>\n",
       "    <tr>\n",
       "      <th>count</th>\n",
       "      <td>231083</td>\n",
       "      <td>231083.000000</td>\n",
       "      <td>231083.000000</td>\n",
       "      <td>231083</td>\n",
       "      <td>231083</td>\n",
       "    </tr>\n",
       "    <tr>\n",
       "      <th>unique</th>\n",
       "      <td>NaN</td>\n",
       "      <td>NaN</td>\n",
       "      <td>NaN</td>\n",
       "      <td>59</td>\n",
       "      <td>59</td>\n",
       "    </tr>\n",
       "    <tr>\n",
       "      <th>top</th>\n",
       "      <td>NaN</td>\n",
       "      <td>NaN</td>\n",
       "      <td>NaN</td>\n",
       "      <td>PHX</td>\n",
       "      <td>PHX</td>\n",
       "    </tr>\n",
       "    <tr>\n",
       "      <th>freq</th>\n",
       "      <td>NaN</td>\n",
       "      <td>NaN</td>\n",
       "      <td>NaN</td>\n",
       "      <td>15186</td>\n",
       "      <td>15144</td>\n",
       "    </tr>\n",
       "    <tr>\n",
       "      <th>mean</th>\n",
       "      <td>1974-02-09 14:11:09.424405952</td>\n",
       "      <td>8.014523</td>\n",
       "      <td>506.802508</td>\n",
       "      <td>NaN</td>\n",
       "      <td>NaN</td>\n",
       "    </tr>\n",
       "    <tr>\n",
       "      <th>min</th>\n",
       "      <td>1971-12-03 09:21:00</td>\n",
       "      <td>-58.000000</td>\n",
       "      <td>108.000000</td>\n",
       "      <td>NaN</td>\n",
       "      <td>NaN</td>\n",
       "    </tr>\n",
       "    <tr>\n",
       "      <th>25%</th>\n",
       "      <td>1972-05-05 08:25:00</td>\n",
       "      <td>-5.000000</td>\n",
       "      <td>283.000000</td>\n",
       "      <td>NaN</td>\n",
       "      <td>NaN</td>\n",
       "    </tr>\n",
       "    <tr>\n",
       "      <th>50%</th>\n",
       "      <td>1974-02-02 15:10:00</td>\n",
       "      <td>0.000000</td>\n",
       "      <td>370.000000</td>\n",
       "      <td>NaN</td>\n",
       "      <td>NaN</td>\n",
       "    </tr>\n",
       "    <tr>\n",
       "      <th>75%</th>\n",
       "      <td>1975-11-17 22:40:00</td>\n",
       "      <td>12.000000</td>\n",
       "      <td>611.000000</td>\n",
       "      <td>NaN</td>\n",
       "      <td>NaN</td>\n",
       "    </tr>\n",
       "    <tr>\n",
       "      <th>max</th>\n",
       "      <td>1976-04-19 04:17:00</td>\n",
       "      <td>509.000000</td>\n",
       "      <td>2298.000000</td>\n",
       "      <td>NaN</td>\n",
       "      <td>NaN</td>\n",
       "    </tr>\n",
       "    <tr>\n",
       "      <th>std</th>\n",
       "      <td>NaN</td>\n",
       "      <td>25.379112</td>\n",
       "      <td>360.631890</td>\n",
       "      <td>NaN</td>\n",
       "      <td>NaN</td>\n",
       "    </tr>\n",
       "  </tbody>\n",
       "</table>\n",
       "</div>"
      ],
      "text/plain": [
       "                                 date          delay       distance  origin  \\\n",
       "count                          231083  231083.000000  231083.000000  231083   \n",
       "unique                            NaN            NaN            NaN      59   \n",
       "top                               NaN            NaN            NaN     PHX   \n",
       "freq                              NaN            NaN            NaN   15186   \n",
       "mean    1974-02-09 14:11:09.424405952       8.014523     506.802508     NaN   \n",
       "min               1971-12-03 09:21:00     -58.000000     108.000000     NaN   \n",
       "25%               1972-05-05 08:25:00      -5.000000     283.000000     NaN   \n",
       "50%               1974-02-02 15:10:00       0.000000     370.000000     NaN   \n",
       "75%               1975-11-17 22:40:00      12.000000     611.000000     NaN   \n",
       "max               1976-04-19 04:17:00     509.000000    2298.000000     NaN   \n",
       "std                               NaN      25.379112     360.631890     NaN   \n",
       "\n",
       "       destination  \n",
       "count       231083  \n",
       "unique          59  \n",
       "top            PHX  \n",
       "freq         15144  \n",
       "mean           NaN  \n",
       "min            NaN  \n",
       "25%            NaN  \n",
       "50%            NaN  \n",
       "75%            NaN  \n",
       "max            NaN  \n",
       "std            NaN  "
      ]
     },
     "execution_count": 7,
     "metadata": {},
     "output_type": "execute_result"
    }
   ],
   "source": [
    "print_X(\"Descr\")\n",
    "df_flights.describe(include='all', datetime_is_numeric=True)"
   ]
  },
  {
   "cell_type": "code",
   "execution_count": 8,
   "metadata": {},
   "outputs": [
    {
     "name": "stdout",
     "output_type": "stream",
     "text": [
      "======= Num of flights by Year/Month: Multiindex Pivot =======\n"
     ]
    },
    {
     "data": {
      "text/plain": [
       "date  date\n",
       "1971  12      11021\n",
       "1972  1       11717\n",
       "      2        9983\n",
       "      3       13238\n",
       "      4        9914\n",
       "      5       10790\n",
       "      6       12548\n",
       "1973  10       2706\n",
       "      11       9939\n",
       "      12      12811\n",
       "1974  1       10408\n",
       "      2        9949\n",
       "      3       13538\n",
       "      4        9878\n",
       "      5        2589\n",
       "1975  9        5410\n",
       "      10       9839\n",
       "      11      10196\n",
       "      12      13311\n",
       "1976  1       10052\n",
       "      2       12176\n",
       "      3       11491\n",
       "      4        7579\n",
       "dtype: int64"
      ]
     },
     "execution_count": 8,
     "metadata": {},
     "output_type": "execute_result"
    }
   ],
   "source": [
    "print_X(\"Num of flights by Year/Month: Multiindex Pivot\")\n",
    "\n",
    "(\n",
    "    df_flights\n",
    "    .groupby([\n",
    "        df_flights['date'].dt.year.astype(int), \n",
    "        df_flights['date'].dt.month.astype(int)\n",
    "        ])\n",
    "    .size()\n",
    "    .sort_index(ascending=True)\n",
    " )"
   ]
  },
  {
   "cell_type": "code",
   "execution_count": 9,
   "metadata": {},
   "outputs": [
    {
     "name": "stdout",
     "output_type": "stream",
     "text": [
      "==================== Flights by Year-Month ====================\n"
     ]
    },
    {
     "data": {
      "image/png": "[encoded data removed]",
      "text/plain": [
       "<Figure size 1000x300 with 1 Axes>"
      ]
     },
     "metadata": {},
     "output_type": "display_data"
    }
   ],
   "source": [
    "print_X(\"Flights by Year-Month\")\n",
    "\n",
    "(\n",
    "    df_flights.groupby([df_flights['date'].dt.year, df_flights['date'].dt.month])\n",
    "        .size()\n",
    "        .plot(kind='line', figsize=(10,3))\n",
    ")\n",
    "\n",
    "plt.xlabel('Year-Month')\n",
    "plt.ylabel('Q of Flights')\n",
    "\n",
    "plt.show()"
   ]
  },
  {
   "cell_type": "code",
   "execution_count": 10,
   "metadata": {},
   "outputs": [
    {
     "name": "stdout",
     "output_type": "stream",
     "text": [
      "================ Flights by Year-Month, Matrix ================\n"
     ]
    },
    {
     "data": {
      "text/html": [
       "<div>\n",
       "<style scoped>\n",
       "    .dataframe tbody tr th:only-of-type {\n",
       "        vertical-align: middle;\n",
       "    }\n",
       "\n",
       "    .dataframe tbody tr th {\n",
       "        vertical-align: top;\n",
       "    }\n",
       "\n",
       "    .dataframe thead th {\n",
       "        text-align: right;\n",
       "    }\n",
       "</style>\n",
       "<table border=\"1\" class=\"dataframe\">\n",
       "  <thead>\n",
       "    <tr style=\"text-align: right;\">\n",
       "      <th>months</th>\n",
       "      <th>1</th>\n",
       "      <th>2</th>\n",
       "      <th>3</th>\n",
       "      <th>4</th>\n",
       "      <th>5</th>\n",
       "      <th>6</th>\n",
       "      <th>9</th>\n",
       "      <th>10</th>\n",
       "      <th>11</th>\n",
       "      <th>12</th>\n",
       "    </tr>\n",
       "    <tr>\n",
       "      <th>years</th>\n",
       "      <th></th>\n",
       "      <th></th>\n",
       "      <th></th>\n",
       "      <th></th>\n",
       "      <th></th>\n",
       "      <th></th>\n",
       "      <th></th>\n",
       "      <th></th>\n",
       "      <th></th>\n",
       "      <th></th>\n",
       "    </tr>\n",
       "  </thead>\n",
       "  <tbody>\n",
       "    <tr>\n",
       "      <th>1976</th>\n",
       "      <td>10,052</td>\n",
       "      <td>12,176</td>\n",
       "      <td>11,491</td>\n",
       "      <td>7,579</td>\n",
       "      <td>--</td>\n",
       "      <td>--</td>\n",
       "      <td>--</td>\n",
       "      <td>--</td>\n",
       "      <td>--</td>\n",
       "      <td>--</td>\n",
       "    </tr>\n",
       "    <tr>\n",
       "      <th>1975</th>\n",
       "      <td>--</td>\n",
       "      <td>--</td>\n",
       "      <td>--</td>\n",
       "      <td>--</td>\n",
       "      <td>--</td>\n",
       "      <td>--</td>\n",
       "      <td>5,410</td>\n",
       "      <td>9,839</td>\n",
       "      <td>10,196</td>\n",
       "      <td>13,311</td>\n",
       "    </tr>\n",
       "    <tr>\n",
       "      <th>1974</th>\n",
       "      <td>10,408</td>\n",
       "      <td>9,949</td>\n",
       "      <td>13,538</td>\n",
       "      <td>9,878</td>\n",
       "      <td>2,589</td>\n",
       "      <td>--</td>\n",
       "      <td>--</td>\n",
       "      <td>--</td>\n",
       "      <td>--</td>\n",
       "      <td>--</td>\n",
       "    </tr>\n",
       "    <tr>\n",
       "      <th>1973</th>\n",
       "      <td>--</td>\n",
       "      <td>--</td>\n",
       "      <td>--</td>\n",
       "      <td>--</td>\n",
       "      <td>--</td>\n",
       "      <td>--</td>\n",
       "      <td>--</td>\n",
       "      <td>2,706</td>\n",
       "      <td>9,939</td>\n",
       "      <td>12,811</td>\n",
       "    </tr>\n",
       "    <tr>\n",
       "      <th>1972</th>\n",
       "      <td>11,717</td>\n",
       "      <td>9,983</td>\n",
       "      <td>13,238</td>\n",
       "      <td>9,914</td>\n",
       "      <td>10,790</td>\n",
       "      <td>12,548</td>\n",
       "      <td>--</td>\n",
       "      <td>--</td>\n",
       "      <td>--</td>\n",
       "      <td>--</td>\n",
       "    </tr>\n",
       "    <tr>\n",
       "      <th>1971</th>\n",
       "      <td>--</td>\n",
       "      <td>--</td>\n",
       "      <td>--</td>\n",
       "      <td>--</td>\n",
       "      <td>--</td>\n",
       "      <td>--</td>\n",
       "      <td>--</td>\n",
       "      <td>--</td>\n",
       "      <td>--</td>\n",
       "      <td>11,021</td>\n",
       "    </tr>\n",
       "  </tbody>\n",
       "</table>\n",
       "</div>"
      ],
      "text/plain": [
       "months      1       2       3      4       5       6      9      10      11  \\\n",
       "years                                                                         \n",
       "1976    10,052  12,176  11,491  7,579      --      --     --     --      --   \n",
       "1975        --      --      --     --      --      --  5,410  9,839  10,196   \n",
       "1974    10,408   9,949  13,538  9,878   2,589      --     --     --      --   \n",
       "1973        --      --      --     --      --      --     --  2,706   9,939   \n",
       "1972    11,717   9,983  13,238  9,914  10,790  12,548     --     --      --   \n",
       "1971        --      --      --     --      --      --     --     --      --   \n",
       "\n",
       "months      12  \n",
       "years           \n",
       "1976        --  \n",
       "1975    13,311  \n",
       "1974        --  \n",
       "1973    12,811  \n",
       "1972        --  \n",
       "1971    11,021  "
      ]
     },
     "execution_count": 10,
     "metadata": {},
     "output_type": "execute_result"
    }
   ],
   "source": [
    "print_X(\"Flights by Year-Month, Matrix\")\n",
    "\n",
    "YM_Matrix = (\n",
    "    df_flights.groupby([df_flights['date'].dt.year, df_flights['date'].dt.month])\n",
    "        .size()\n",
    "        .unstack()\n",
    "        .rename_axis(columns='months', index='years')\n",
    "        .sort_index(ascending=False)        \n",
    ")\n",
    "\n",
    "(\n",
    "    YM_Matrix\n",
    "    .applymap(lambda x: f\"{x:,.0f}\" if pd.notna(x) else x)\n",
    "    # .applymap(lambda x: f\"{int(x/1000)}K\" if pd.notna(x) else x)\n",
    "    .fillna(\"--\")\n",
    ")"
   ]
  },
  {
   "attachments": {},
   "cell_type": "markdown",
   "metadata": {},
   "source": [
    "🚩 NaN periods are obvious data inconsistency"
   ]
  },
  {
   "attachments": {},
   "cell_type": "markdown",
   "metadata": {},
   "source": [
    "#### Vizualisiing as a Heatmap"
   ]
  },
  {
   "cell_type": "code",
   "execution_count": 11,
   "metadata": {},
   "outputs": [
    {
     "name": "stdout",
     "output_type": "stream",
     "text": [
      "======================= Seaborn Heatmap =======================\n"
     ]
    },
    {
     "data": {
      "image/png": "[encoded data removed]",
      "text/plain": [
       "<Figure size 1500x500 with 2 Axes>"
      ]
     },
     "metadata": {},
     "output_type": "display_data"
    }
   ],
   "source": [
    "print_X(\"Seaborn Heatmap\")\n",
    "\n",
    "fig, ax = plt.subplots(figsize=(15, 5))\n",
    "heatmap(\n",
    "    (\n",
    "    YM_Matrix\n",
    "        .sort_index(ascending=False)\n",
    "        .applymap(lambda x: x/1000 if pd.notna(x) else x)) # SR for annotations\n",
    "            , cmap='Blues'\n",
    "            , annot=True\n",
    ")\n",
    "\n",
    "plt.title(\"Number of Flights by Year/Month, Thousands\")\n",
    "plt.show()"
   ]
  },
  {
   "attachments": {},
   "cell_type": "markdown",
   "metadata": {},
   "source": [
    "To add interactivity, same chart is recreated below using Plotly "
   ]
  },
  {
   "cell_type": "code",
   "execution_count": 12,
   "metadata": {},
   "outputs": [
    {
     "name": "stdout",
     "output_type": "stream",
     "text": [
      "======================= Plotly Heatmap =======================\n"
     ]
    },
    {
     "data": {
      "application/vnd.plotly.v1+json": {
       "config": {
        "plotlyServerURL": "https://plot.ly"
       },
       "data": [
        {
         "colorscale": [
          [
           0,
           "rgb(247,251,255)"
          ],
          [
           0.125,
           "rgb(222,235,247)"
          ],
          [
           0.25,
           "rgb(198,219,239)"
          ],
          [
           0.375,
           "rgb(158,202,225)"
          ],
          [
           0.5,
           "rgb(107,174,214)"
          ],
          [
           0.625,
           "rgb(66,146,198)"
          ],
          [
           0.75,
           "rgb(33,113,181)"
          ],
          [
           0.875,
           "rgb(8,81,156)"
          ],
          [
           1,
           "rgb(8,48,107)"
          ]
         ],
         "type": "heatmap",
         "x": [
          1,
          2,
          3,
          4,
          5,
          6,
          9,
          10,
          11,
          12
         ],
         "y": [
          1976,
          1975,
          1974,
          1973,
          1972,
          1971
         ],
         "z": [
          [
           10052,
           12176,
           11491,
           7579,
           null,
           null,
           null,
           null,
           null,
           null
          ],
          [
           null,
           null,
           null,
           null,
           null,
           null,
           5410,
           9839,
           10196,
           13311
          ],
          [
           10408,
           9949,
           13538,
           9878,
           2589,
           null,
           null,
           null,
           null,
           null
          ],
          [
           null,
           null,
           null,
           null,
           null,
           null,
           null,
           2706,
           9939,
           12811
          ],
          [
           11717,
           9983,
           13238,
           9914,
           10790,
           12548,
           null,
           null,
           null,
           null
          ],
          [
           null,
           null,
           null,
           null,
           null,
           null,
           null,
           null,
           null,
           11021
          ]
         ]
        }
       ],
       "layout": {
        "height": 500,
        "template": {
         "data": {
          "bar": [
           {
            "error_x": {
             "color": "#2a3f5f"
            },
            "error_y": {
             "color": "#2a3f5f"
            },
            "marker": {
             "line": {
              "color": "#E5ECF6",
              "width": 0.5
             },
             "pattern": {
              "fillmode": "overlay",
              "size": 10,
              "solidity": 0.2
             }
            },
            "type": "bar"
           }
          ],
          "barpolar": [
           {
            "marker": {
             "line": {
              "color": "#E5ECF6",
              "width": 0.5
             },
             "pattern": {
              "fillmode": "overlay",
              "size": 10,
              "solidity": 0.2
             }
            },
            "type": "barpolar"
           }
          ],
          "carpet": [
           {
            "aaxis": {
             "endlinecolor": "#2a3f5f",
             "gridcolor": "white",
             "linecolor": "white",
             "minorgridcolor": "white",
             "startlinecolor": "#2a3f5f"
            },
            "baxis": {
             "endlinecolor": "#2a3f5f",
             "gridcolor": "white",
             "linecolor": "white",
             "minorgridcolor": "white",
             "startlinecolor": "#2a3f5f"
            },
            "type": "carpet"
           }
          ],
          "choropleth": [
           {
            "colorbar": {
             "outlinewidth": 0,
             "ticks": ""
            },
            "type": "choropleth"
           }
          ],
          "contour": [
           {
            "colorbar": {
             "outlinewidth": 0,
             "ticks": ""
            },
            "colorscale": [
             [
              0,
              "#0d0887"
             ],
             [
              0.1111111111111111,
              "#46039f"
             ],
             [
              0.2222222222222222,
              "#7201a8"
             ],
             [
              0.3333333333333333,
              "#9c179e"
             ],
             [
              0.4444444444444444,
              "#bd3786"
             ],
             [
              0.5555555555555556,
              "#d8576b"
             ],
             [
              0.6666666666666666,
              "#ed7953"
             ],
             [
              0.7777777777777778,
              "#fb9f3a"
             ],
             [
              0.8888888888888888,
              "#fdca26"
             ],
             [
              1,
              "#f0f921"
             ]
            ],
            "type": "contour"
           }
          ],
          "contourcarpet": [
           {
            "colorbar": {
             "outlinewidth": 0,
             "ticks": ""
            },
            "type": "contourcarpet"
           }
          ],
          "heatmap": [
           {
            "colorbar": {
             "outlinewidth": 0,
             "ticks": ""
            },
            "colorscale": [
             [
              0,
              "#0d0887"
             ],
             [
              0.1111111111111111,
              "#46039f"
             ],
             [
              0.2222222222222222,
              "#7201a8"
             ],
             [
              0.3333333333333333,
              "#9c179e"
             ],
             [
              0.4444444444444444,
              "#bd3786"
             ],
             [
              0.5555555555555556,
              "#d8576b"
             ],
             [
              0.6666666666666666,
              "#ed7953"
             ],
             [
              0.7777777777777778,
              "#fb9f3a"
             ],
             [
              0.8888888888888888,
              "#fdca26"
             ],
             [
              1,
              "#f0f921"
             ]
            ],
            "type": "heatmap"
           }
          ],
          "heatmapgl": [
           {
            "colorbar": {
             "outlinewidth": 0,
             "ticks": ""
            },
            "colorscale": [
             [
              0,
              "#0d0887"
             ],
             [
              0.1111111111111111,
              "#46039f"
             ],
             [
              0.2222222222222222,
              "#7201a8"
             ],
             [
              0.3333333333333333,
              "#9c179e"
             ],
             [
              0.4444444444444444,
              "#bd3786"
             ],
             [
              0.5555555555555556,
              "#d8576b"
             ],
             [
              0.6666666666666666,
              "#ed7953"
             ],
             [
              0.7777777777777778,
              "#fb9f3a"
             ],
             [
              0.8888888888888888,
              "#fdca26"
             ],
             [
              1,
              "#f0f921"
             ]
            ],
            "type": "heatmapgl"
           }
          ],
          "histogram": [
           {
            "marker": {
             "pattern": {
              "fillmode": "overlay",
              "size": 10,
              "solidity": 0.2
             }
            },
            "type": "histogram"
           }
          ],
          "histogram2d": [
           {
            "colorbar": {
             "outlinewidth": 0,
             "ticks": ""
            },
            "colorscale": [
             [
              0,
              "#0d0887"
             ],
             [
              0.1111111111111111,
              "#46039f"
             ],
             [
              0.2222222222222222,
              "#7201a8"
             ],
             [
              0.3333333333333333,
              "#9c179e"
             ],
             [
              0.4444444444444444,
              "#bd3786"
             ],
             [
              0.5555555555555556,
              "#d8576b"
             ],
             [
              0.6666666666666666,
              "#ed7953"
             ],
             [
              0.7777777777777778,
              "#fb9f3a"
             ],
             [
              0.8888888888888888,
              "#fdca26"
             ],
             [
              1,
              "#f0f921"
             ]
            ],
            "type": "histogram2d"
           }
          ],
          "histogram2dcontour": [
           {
            "colorbar": {
             "outlinewidth": 0,
             "ticks": ""
            },
            "colorscale": [
             [
              0,
              "#0d0887"
             ],
             [
              0.1111111111111111,
              "#46039f"
             ],
             [
              0.2222222222222222,
              "#7201a8"
             ],
             [
              0.3333333333333333,
              "#9c179e"
             ],
             [
              0.4444444444444444,
              "#bd3786"
             ],
             [
              0.5555555555555556,
              "#d8576b"
             ],
             [
              0.6666666666666666,
              "#ed7953"
             ],
             [
              0.7777777777777778,
              "#fb9f3a"
             ],
             [
              0.8888888888888888,
              "#fdca26"
             ],
             [
              1,
              "#f0f921"
             ]
            ],
            "type": "histogram2dcontour"
           }
          ],
          "mesh3d": [
           {
            "colorbar": {
             "outlinewidth": 0,
             "ticks": ""
            },
            "type": "mesh3d"
           }
          ],
          "parcoords": [
           {
            "line": {
             "colorbar": {
              "outlinewidth": 0,
              "ticks": ""
             }
            },
            "type": "parcoords"
           }
          ],
          "pie": [
           {
            "automargin": true,
            "type": "pie"
           }
          ],
          "scatter": [
           {
            "fillpattern": {
             "fillmode": "overlay",
             "size": 10,
             "solidity": 0.2
            },
            "type": "scatter"
           }
          ],
          "scatter3d": [
           {
            "line": {
             "colorbar": {
              "outlinewidth": 0,
              "ticks": ""
             }
            },
            "marker": {
             "colorbar": {
              "outlinewidth": 0,
              "ticks": ""
             }
            },
            "type": "scatter3d"
           }
          ],
          "scattercarpet": [
           {
            "marker": {
             "colorbar": {
              "outlinewidth": 0,
              "ticks": ""
             }
            },
            "type": "scattercarpet"
           }
          ],
          "scattergeo": [
           {
            "marker": {
             "colorbar": {
              "outlinewidth": 0,
              "ticks": ""
             }
            },
            "type": "scattergeo"
           }
          ],
          "scattergl": [
           {
            "marker": {
             "colorbar": {
              "outlinewidth": 0,
              "ticks": ""
             }
            },
            "type": "scattergl"
           }
          ],
          "scattermapbox": [
           {
            "marker": {
             "colorbar": {
              "outlinewidth": 0,
              "ticks": ""
             }
            },
            "type": "scattermapbox"
           }
          ],
          "scatterpolar": [
           {
            "marker": {
             "colorbar": {
              "outlinewidth": 0,
              "ticks": ""
             }
            },
            "type": "scatterpolar"
           }
          ],
          "scatterpolargl": [
           {
            "marker": {
             "colorbar": {
              "outlinewidth": 0,
              "ticks": ""
             }
            },
            "type": "scatterpolargl"
           }
          ],
          "scatterternary": [
           {
            "marker": {
             "colorbar": {
              "outlinewidth": 0,
              "ticks": ""
             }
            },
            "type": "scatterternary"
           }
          ],
          "surface": [
           {
            "colorbar": {
             "outlinewidth": 0,
             "ticks": ""
            },
            "colorscale": [
             [
              0,
              "#0d0887"
             ],
             [
              0.1111111111111111,
              "#46039f"
             ],
             [
              0.2222222222222222,
              "#7201a8"
             ],
             [
              0.3333333333333333,
              "#9c179e"
             ],
             [
              0.4444444444444444,
              "#bd3786"
             ],
             [
              0.5555555555555556,
              "#d8576b"
             ],
             [
              0.6666666666666666,
              "#ed7953"
             ],
             [
              0.7777777777777778,
              "#fb9f3a"
             ],
             [
              0.8888888888888888,
              "#fdca26"
             ],
             [
              1,
              "#f0f921"
             ]
            ],
            "type": "surface"
           }
          ],
          "table": [
           {
            "cells": {
             "fill": {
              "color": "#EBF0F8"
             },
             "line": {
              "color": "white"
             }
            },
            "header": {
             "fill": {
              "color": "#C8D4E3"
             },
             "line": {
              "color": "white"
             }
            },
            "type": "table"
           }
          ]
         },
         "layout": {
          "annotationdefaults": {
           "arrowcolor": "#2a3f5f",
           "arrowhead": 0,
           "arrowwidth": 1
          },
          "autotypenumbers": "strict",
          "coloraxis": {
           "colorbar": {
            "outlinewidth": 0,
            "ticks": ""
           }
          },
          "colorscale": {
           "diverging": [
            [
             0,
             "#8e0152"
            ],
            [
             0.1,
             "#c51b7d"
            ],
            [
             0.2,
             "#de77ae"
            ],
            [
             0.3,
             "#f1b6da"
            ],
            [
             0.4,
             "#fde0ef"
            ],
            [
             0.5,
             "#f7f7f7"
            ],
            [
             0.6,
             "#e6f5d0"
            ],
            [
             0.7,
             "#b8e186"
            ],
            [
             0.8,
             "#7fbc41"
            ],
            [
             0.9,
             "#4d9221"
            ],
            [
             1,
             "#276419"
            ]
           ],
           "sequential": [
            [
             0,
             "#0d0887"
            ],
            [
             0.1111111111111111,
             "#46039f"
            ],
            [
             0.2222222222222222,
             "#7201a8"
            ],
            [
             0.3333333333333333,
             "#9c179e"
            ],
            [
             0.4444444444444444,
             "#bd3786"
            ],
            [
             0.5555555555555556,
             "#d8576b"
            ],
            [
             0.6666666666666666,
             "#ed7953"
            ],
            [
             0.7777777777777778,
             "#fb9f3a"
            ],
            [
             0.8888888888888888,
             "#fdca26"
            ],
            [
             1,
             "#f0f921"
            ]
           ],
           "sequentialminus": [
            [
             0,
             "#0d0887"
            ],
            [
             0.1111111111111111,
             "#46039f"
            ],
            [
             0.2222222222222222,
             "#7201a8"
            ],
            [
             0.3333333333333333,
             "#9c179e"
            ],
            [
             0.4444444444444444,
             "#bd3786"
            ],
            [
             0.5555555555555556,
             "#d8576b"
            ],
            [
             0.6666666666666666,
             "#ed7953"
            ],
            [
             0.7777777777777778,
             "#fb9f3a"
            ],
            [
             0.8888888888888888,
             "#fdca26"
            ],
            [
             1,
             "#f0f921"
            ]
           ]
          },
          "colorway": [
           "#636efa",
           "#EF553B",
           "#00cc96",
           "#ab63fa",
           "#FFA15A",
           "#19d3f3",
           "#FF6692",
           "#B6E880",
           "#FF97FF",
           "#FECB52"
          ],
          "font": {
           "color": "#2a3f5f"
          },
          "geo": {
           "bgcolor": "white",
           "lakecolor": "white",
           "landcolor": "#E5ECF6",
           "showlakes": true,
           "showland": true,
           "subunitcolor": "white"
          },
          "hoverlabel": {
           "align": "left"
          },
          "hovermode": "closest",
          "mapbox": {
           "style": "light"
          },
          "paper_bgcolor": "white",
          "plot_bgcolor": "#E5ECF6",
          "polar": {
           "angularaxis": {
            "gridcolor": "white",
            "linecolor": "white",
            "ticks": ""
           },
           "bgcolor": "#E5ECF6",
           "radialaxis": {
            "gridcolor": "white",
            "linecolor": "white",
            "ticks": ""
           }
          },
          "scene": {
           "xaxis": {
            "backgroundcolor": "#E5ECF6",
            "gridcolor": "white",
            "gridwidth": 2,
            "linecolor": "white",
            "showbackground": true,
            "ticks": "",
            "zerolinecolor": "white"
           },
           "yaxis": {
            "backgroundcolor": "#E5ECF6",
            "gridcolor": "white",
            "gridwidth": 2,
            "linecolor": "white",
            "showbackground": true,
            "ticks": "",
            "zerolinecolor": "white"
           },
           "zaxis": {
            "backgroundcolor": "#E5ECF6",
            "gridcolor": "white",
            "gridwidth": 2,
            "linecolor": "white",
            "showbackground": true,
            "ticks": "",
            "zerolinecolor": "white"
           }
          },
          "shapedefaults": {
           "line": {
            "color": "#2a3f5f"
           }
          },
          "ternary": {
           "aaxis": {
            "gridcolor": "white",
            "linecolor": "white",
            "ticks": ""
           },
           "baxis": {
            "gridcolor": "white",
            "linecolor": "white",
            "ticks": ""
           },
           "bgcolor": "#E5ECF6",
           "caxis": {
            "gridcolor": "white",
            "linecolor": "white",
            "ticks": ""
           }
          },
          "title": {
           "x": 0.05
          },
          "xaxis": {
           "automargin": true,
           "gridcolor": "white",
           "linecolor": "white",
           "ticks": "",
           "title": {
            "standoff": 15
           },
           "zerolinecolor": "white",
           "zerolinewidth": 2
          },
          "yaxis": {
           "automargin": true,
           "gridcolor": "white",
           "linecolor": "white",
           "ticks": "",
           "title": {
            "standoff": 15
           },
           "zerolinecolor": "white",
           "zerolinewidth": 2
          }
         }
        },
        "title": {
         "text": "Number of Flights by Year/Month"
        },
        "width": 1000,
        "xaxis": {
         "title": {
          "text": "Months"
         }
        },
        "yaxis": {
         "title": {
          "text": "Years"
         }
        }
       }
      }
     },
     "metadata": {},
     "output_type": "display_data"
    }
   ],
   "source": [
    "print_X(\"Plotly Heatmap\")\n",
    "import plotly.graph_objects as go\n",
    "\n",
    "# Create the heatmap figure\n",
    "fig = go.Figure(go.Heatmap(\n",
    "    x=YM_Matrix.columns, \n",
    "    y=YM_Matrix.index, \n",
    "    z=YM_Matrix.values,\n",
    "    colorscale='Blues'\n",
    ")).update_layout(\n",
    "        title='Number of Flights by Year/Month',\n",
    "        xaxis_title='Months',\n",
    "        yaxis_title='Years',\n",
    "        width=1000,  # pxls\n",
    "        height=500\n",
    ")\n",
    "\n",
    "fig.show()"
   ]
  },
  {
   "cell_type": "code",
   "execution_count": 13,
   "metadata": {},
   "outputs": [
    {
     "name": "stdout",
     "output_type": "stream",
     "text": [
      ">>> Variable 'YM_Matrix'..................... deleted from locals().\n",
      ">>> Variable 'ax'............................ deleted from locals().\n",
      ">>> Variable 'z'............................. does not exist.\n",
      ">>> Variable 'fig'........................... deleted from locals().\n"
     ]
    }
   ],
   "source": [
    "delete_variables('YM_Matrix|ax|z|fig'.split('|'))"
   ]
  },
  {
   "attachments": {},
   "cell_type": "markdown",
   "metadata": {},
   "source": [
    "## 2️⃣ Mapping Airports to Wiki data to fetch Country"
   ]
  },
  {
   "cell_type": "code",
   "execution_count": 14,
   "metadata": {},
   "outputs": [
    {
     "name": "stdout",
     "output_type": "stream",
     "text": [
      "================ Data from Wikipedia retrieved ================\n"
     ]
    }
   ],
   "source": [
    "wiki_airports = get_wiki_airports().set_index('IATA Code')\n",
    "print_X(\"Data from Wikipedia retrieved\")"
   ]
  },
  {
   "cell_type": "code",
   "execution_count": 15,
   "metadata": {},
   "outputs": [
    {
     "name": "stdout",
     "output_type": "stream",
     "text": [
      "==================== Sampe from Wikipedia ====================\n"
     ]
    },
    {
     "data": {
      "text/plain": [
       "Continent    Eastern Europe\n",
       "Country             Ukraine\n",
       "Location               Kyiv\n",
       "Name: KBP, dtype: object"
      ]
     },
     "execution_count": 15,
     "metadata": {},
     "output_type": "execute_result"
    }
   ],
   "source": [
    "print_X(\"Sampe from Wikipedia\")\n",
    "wiki_airports.loc['KBP']"
   ]
  },
  {
   "cell_type": "code",
   "execution_count": 16,
   "metadata": {},
   "outputs": [
    {
     "name": "stdout",
     "output_type": "stream",
     "text": [
      "=================== Airports_DF Countries: ===================\n",
      "['United States']\n",
      "--> So we have only US airports in the dataset...\n"
     ]
    }
   ],
   "source": [
    "print_X(\"Airports_DF Countries:\")\n",
    "\n",
    "print(\n",
    "    pd.DataFrame(\n",
    "        df_flights['destination'].unique(), \n",
    "        columns=['IATA Code']\n",
    "            ).set_index('IATA Code')\n",
    "\n",
    "            .merge(wiki_airports, left_index=True, right_index=True)['Country']\n",
    "            .unique()\n",
    ")\n",
    "\n",
    "print(\"--> So we have only US airports in the dataset...\")"
   ]
  },
  {
   "attachments": {},
   "cell_type": "markdown",
   "metadata": {},
   "source": [
    "#### 2️⃣-1️ Mapping Airports to States (identifying hottest States / Airports by States)"
   ]
  },
  {
   "cell_type": "code",
   "execution_count": 17,
   "metadata": {},
   "outputs": [],
   "source": [
    "wiki_airports_us = get_wiki_airports_US().set_index('IATA')"
   ]
  },
  {
   "cell_type": "code",
   "execution_count": 18,
   "metadata": {},
   "outputs": [
    {
     "data": {
      "text/html": [
       "<div>\n",
       "<style scoped>\n",
       "    .dataframe tbody tr th:only-of-type {\n",
       "        vertical-align: middle;\n",
       "    }\n",
       "\n",
       "    .dataframe tbody tr th {\n",
       "        vertical-align: top;\n",
       "    }\n",
       "\n",
       "    .dataframe thead th {\n",
       "        text-align: right;\n",
       "    }\n",
       "</style>\n",
       "<table border=\"1\" class=\"dataframe\">\n",
       "  <thead>\n",
       "    <tr style=\"text-align: right;\">\n",
       "      <th></th>\n",
       "      <th>City</th>\n",
       "      <th>State</th>\n",
       "    </tr>\n",
       "    <tr>\n",
       "      <th>IATA</th>\n",
       "      <th></th>\n",
       "      <th></th>\n",
       "    </tr>\n",
       "  </thead>\n",
       "  <tbody>\n",
       "    <tr>\n",
       "      <th>BHM</th>\n",
       "      <td>Birmingham</td>\n",
       "      <td>ALABAMA</td>\n",
       "    </tr>\n",
       "    <tr>\n",
       "      <th>DHN</th>\n",
       "      <td>Dothan</td>\n",
       "      <td>ALABAMA</td>\n",
       "    </tr>\n",
       "    <tr>\n",
       "      <th>HSV</th>\n",
       "      <td>Huntsville</td>\n",
       "      <td>ALABAMA</td>\n",
       "    </tr>\n",
       "  </tbody>\n",
       "</table>\n",
       "</div>"
      ],
      "text/plain": [
       "            City    State\n",
       "IATA                     \n",
       "BHM   Birmingham  ALABAMA\n",
       "DHN       Dothan  ALABAMA\n",
       "HSV   Huntsville  ALABAMA"
      ]
     },
     "execution_count": 18,
     "metadata": {},
     "output_type": "execute_result"
    }
   ],
   "source": [
    "wiki_airports_us[:3]"
   ]
  },
  {
   "cell_type": "code",
   "execution_count": 19,
   "metadata": {},
   "outputs": [
    {
     "data": {
      "text/plain": [
       "PHX    15144\n",
       "LAS    14409\n",
       "HOU    12430\n",
       "DAL    11078\n",
       "BWI    10683\n",
       "MDW    10159\n",
       "LAX    10134\n",
       "OAK     9920\n",
       "BNA     7678\n",
       "STL     7045\n",
       "Name: destination, dtype: int64"
      ]
     },
     "execution_count": 19,
     "metadata": {},
     "output_type": "execute_result"
    }
   ],
   "source": [
    "df_flights['destination'].value_counts()[:10]"
   ]
  },
  {
   "cell_type": "code",
   "execution_count": 20,
   "metadata": {},
   "outputs": [
    {
     "data": {
      "text/html": [
       "<div>\n",
       "<style scoped>\n",
       "    .dataframe tbody tr th:only-of-type {\n",
       "        vertical-align: middle;\n",
       "    }\n",
       "\n",
       "    .dataframe tbody tr th {\n",
       "        vertical-align: top;\n",
       "    }\n",
       "\n",
       "    .dataframe thead th {\n",
       "        text-align: right;\n",
       "    }\n",
       "</style>\n",
       "<table border=\"1\" class=\"dataframe\">\n",
       "  <thead>\n",
       "    <tr style=\"text-align: right;\">\n",
       "      <th></th>\n",
       "      <th>destination</th>\n",
       "    </tr>\n",
       "    <tr>\n",
       "      <th>State</th>\n",
       "      <th></th>\n",
       "    </tr>\n",
       "  </thead>\n",
       "  <tbody>\n",
       "    <tr>\n",
       "      <th>ALABAMA</th>\n",
       "      <td>2287.0</td>\n",
       "    </tr>\n",
       "    <tr>\n",
       "      <th>ARIZONA</th>\n",
       "      <td>16221.0</td>\n",
       "    </tr>\n",
       "    <tr>\n",
       "      <th>ARKANSAS</th>\n",
       "      <td>1351.0</td>\n",
       "    </tr>\n",
       "  </tbody>\n",
       "</table>\n",
       "</div>"
      ],
      "text/plain": [
       "          destination\n",
       "State                \n",
       "ALABAMA        2287.0\n",
       "ARIZONA       16221.0\n",
       "ARKANSAS       1351.0"
      ]
     },
     "execution_count": 20,
     "metadata": {},
     "output_type": "execute_result"
    }
   ],
   "source": [
    "flights_by_airports_states = (\n",
    "     pd.concat(\n",
    "        [\n",
    "            df_flights['destination'].value_counts(), \n",
    "            wiki_airports_us['State']\n",
    "        ], axis=1)\n",
    "        \n",
    "        .replace({0:None})\n",
    "        .dropna()\n",
    "        \n",
    ")\n",
    "\n",
    "flights_by_states = flights_by_airports_states.groupby('State').sum()\n",
    "\n",
    "flights_by_states[:3]"
   ]
  },
  {
   "cell_type": "code",
   "execution_count": 21,
   "metadata": {},
   "outputs": [
    {
     "name": "stdout",
     "output_type": "stream",
     "text": [
      "=====================  Hottest US States =====================\n"
     ]
    },
    {
     "data": {
      "image/png": "[encoded data removed]",
      "text/plain": [
       "<Figure size 1000x400 with 2 Axes>"
      ]
     },
     "metadata": {},
     "output_type": "display_data"
    }
   ],
   "source": [
    "print_X(\" Hottest US States\")\n",
    "\n",
    "fig, ax = plt.subplots(1,2, sharey=True, figsize=(10,4))\n",
    "\n",
    "flights_by_states.nlargest(columns=['destination'], n=15).plot(kind='bar', ax=ax[0])\n",
    "flights_by_states.nsmallest(columns=['destination'], n=15).sort_values(by='destination', ascending=False).plot(kind='bar', ax=ax[1])\n",
    "\n",
    "fig.suptitle(\"Head and Tail of the Airport-by-State\")\n",
    "plt.show()"
   ]
  },
  {
   "cell_type": "code",
   "execution_count": 22,
   "metadata": {},
   "outputs": [
    {
     "name": "stdout",
     "output_type": "stream",
     "text": [
      "============ Hottest [22] Airports by destination ============\n"
     ]
    },
    {
     "data": {
      "text/html": [
       "<div>\n",
       "<style scoped>\n",
       "    .dataframe tbody tr th:only-of-type {\n",
       "        vertical-align: middle;\n",
       "    }\n",
       "\n",
       "    .dataframe tbody tr th {\n",
       "        vertical-align: top;\n",
       "    }\n",
       "\n",
       "    .dataframe thead th {\n",
       "        text-align: right;\n",
       "    }\n",
       "</style>\n",
       "<table border=\"1\" class=\"dataframe\">\n",
       "  <thead>\n",
       "    <tr style=\"text-align: right;\">\n",
       "      <th></th>\n",
       "      <th></th>\n",
       "      <th>SumByAirport</th>\n",
       "      <th>SumByState</th>\n",
       "    </tr>\n",
       "    <tr>\n",
       "      <th>State</th>\n",
       "      <th>Airport</th>\n",
       "      <th></th>\n",
       "      <th></th>\n",
       "    </tr>\n",
       "  </thead>\n",
       "  <tbody>\n",
       "    <tr>\n",
       "      <th rowspan=\"9\" valign=\"top\">CALIFORNIA</th>\n",
       "      <th>LAX</th>\n",
       "      <td>10134.0</td>\n",
       "      <td>49424.0</td>\n",
       "    </tr>\n",
       "    <tr>\n",
       "      <th>OAK</th>\n",
       "      <td>9920.0</td>\n",
       "      <td>49424.0</td>\n",
       "    </tr>\n",
       "    <tr>\n",
       "      <th>SAN</th>\n",
       "      <td>6812.0</td>\n",
       "      <td>49424.0</td>\n",
       "    </tr>\n",
       "    <tr>\n",
       "      <th>SJC</th>\n",
       "      <td>6037.0</td>\n",
       "      <td>49424.0</td>\n",
       "    </tr>\n",
       "    <tr>\n",
       "      <th>SMF</th>\n",
       "      <td>5260.0</td>\n",
       "      <td>49424.0</td>\n",
       "    </tr>\n",
       "    <tr>\n",
       "      <th>ONT</th>\n",
       "      <td>4921.0</td>\n",
       "      <td>49424.0</td>\n",
       "    </tr>\n",
       "    <tr>\n",
       "      <th>BUR</th>\n",
       "      <td>4316.0</td>\n",
       "      <td>49424.0</td>\n",
       "    </tr>\n",
       "    <tr>\n",
       "      <th>SNA</th>\n",
       "      <td>1224.0</td>\n",
       "      <td>49424.0</td>\n",
       "    </tr>\n",
       "    <tr>\n",
       "      <th>SFO</th>\n",
       "      <td>800.0</td>\n",
       "      <td>49424.0</td>\n",
       "    </tr>\n",
       "    <tr>\n",
       "      <th rowspan=\"11\" valign=\"top\">TEXAS</th>\n",
       "      <th>HOU</th>\n",
       "      <td>12430.0</td>\n",
       "      <td>40207.0</td>\n",
       "    </tr>\n",
       "    <tr>\n",
       "      <th>DAL</th>\n",
       "      <td>11078.0</td>\n",
       "      <td>40207.0</td>\n",
       "    </tr>\n",
       "    <tr>\n",
       "      <th>AUS</th>\n",
       "      <td>3953.0</td>\n",
       "      <td>40207.0</td>\n",
       "    </tr>\n",
       "    <tr>\n",
       "      <th>SAT</th>\n",
       "      <td>3826.0</td>\n",
       "      <td>40207.0</td>\n",
       "    </tr>\n",
       "    <tr>\n",
       "      <th>ELP</th>\n",
       "      <td>3402.0</td>\n",
       "      <td>40207.0</td>\n",
       "    </tr>\n",
       "    <tr>\n",
       "      <th>LBB</th>\n",
       "      <td>1232.0</td>\n",
       "      <td>40207.0</td>\n",
       "    </tr>\n",
       "    <tr>\n",
       "      <th>MAF</th>\n",
       "      <td>1199.0</td>\n",
       "      <td>40207.0</td>\n",
       "    </tr>\n",
       "    <tr>\n",
       "      <th>HRL</th>\n",
       "      <td>1029.0</td>\n",
       "      <td>40207.0</td>\n",
       "    </tr>\n",
       "    <tr>\n",
       "      <th>AMA</th>\n",
       "      <td>873.0</td>\n",
       "      <td>40207.0</td>\n",
       "    </tr>\n",
       "    <tr>\n",
       "      <th>CRP</th>\n",
       "      <td>637.0</td>\n",
       "      <td>40207.0</td>\n",
       "    </tr>\n",
       "    <tr>\n",
       "      <th>IAH</th>\n",
       "      <td>548.0</td>\n",
       "      <td>40207.0</td>\n",
       "    </tr>\n",
       "    <tr>\n",
       "      <th rowspan=\"2\" valign=\"top\">NEVADA</th>\n",
       "      <th>LAS</th>\n",
       "      <td>14409.0</td>\n",
       "      <td>17908.0</td>\n",
       "    </tr>\n",
       "    <tr>\n",
       "      <th>RNO</th>\n",
       "      <td>3499.0</td>\n",
       "      <td>17908.0</td>\n",
       "    </tr>\n",
       "  </tbody>\n",
       "</table>\n",
       "</div>"
      ],
      "text/plain": [
       "                    SumByAirport  SumByState\n",
       "State      Airport                          \n",
       "CALIFORNIA LAX           10134.0     49424.0\n",
       "           OAK            9920.0     49424.0\n",
       "           SAN            6812.0     49424.0\n",
       "           SJC            6037.0     49424.0\n",
       "           SMF            5260.0     49424.0\n",
       "           ONT            4921.0     49424.0\n",
       "           BUR            4316.0     49424.0\n",
       "           SNA            1224.0     49424.0\n",
       "           SFO             800.0     49424.0\n",
       "TEXAS      HOU           12430.0     40207.0\n",
       "           DAL           11078.0     40207.0\n",
       "           AUS            3953.0     40207.0\n",
       "           SAT            3826.0     40207.0\n",
       "           ELP            3402.0     40207.0\n",
       "           LBB            1232.0     40207.0\n",
       "           MAF            1199.0     40207.0\n",
       "           HRL            1029.0     40207.0\n",
       "           AMA             873.0     40207.0\n",
       "           CRP             637.0     40207.0\n",
       "           IAH             548.0     40207.0\n",
       "NEVADA     LAS           14409.0     17908.0\n",
       "           RNO            3499.0     17908.0"
      ]
     },
     "execution_count": 22,
     "metadata": {},
     "output_type": "execute_result"
    }
   ],
   "source": [
    "n = 22\n",
    "\n",
    "print_X(f\"Hottest [{n}] Airports by destination\")\n",
    "(\n",
    "    flights_by_airports_states\n",
    "        .reset_index()\n",
    "        .rename(columns={'index':'Airport'})\n",
    "        .merge(flights_by_states.reset_index(), on='State')\n",
    "            .rename(columns={'destination_x': 'SumByAirport', 'destination_y':'SumByState'})\n",
    "        \n",
    "        .set_index(['State','Airport'])\n",
    "        .sort_values(by=['SumByState', 'SumByAirport'], ascending=[False, False])\n",
    "\n",
    ")[:n]"
   ]
  },
  {
   "attachments": {},
   "cell_type": "markdown",
   "metadata": {},
   "source": [
    "### 2. EDA -- Flights from and to Airports (all arived planes, departured)"
   ]
  },
  {
   "cell_type": "code",
   "execution_count": 23,
   "metadata": {},
   "outputs": [
    {
     "name": "stdout",
     "output_type": "stream",
     "text": [
      "= Origin_Count and Destination_Count over same Index/Airport =\n"
     ]
    },
    {
     "data": {
      "text/html": [
       "<div>\n",
       "<style scoped>\n",
       "    .dataframe tbody tr th:only-of-type {\n",
       "        vertical-align: middle;\n",
       "    }\n",
       "\n",
       "    .dataframe tbody tr th {\n",
       "        vertical-align: top;\n",
       "    }\n",
       "\n",
       "    .dataframe thead th {\n",
       "        text-align: right;\n",
       "    }\n",
       "</style>\n",
       "<table border=\"1\" class=\"dataframe\">\n",
       "  <thead>\n",
       "    <tr style=\"text-align: right;\">\n",
       "      <th></th>\n",
       "      <th>origin</th>\n",
       "      <th>destination</th>\n",
       "      <th>diff</th>\n",
       "    </tr>\n",
       "  </thead>\n",
       "  <tbody>\n",
       "    <tr>\n",
       "      <th>PHX</th>\n",
       "      <td>15186</td>\n",
       "      <td>15144</td>\n",
       "      <td>42</td>\n",
       "    </tr>\n",
       "    <tr>\n",
       "      <th>HOU</th>\n",
       "      <td>12453</td>\n",
       "      <td>12430</td>\n",
       "      <td>23</td>\n",
       "    </tr>\n",
       "    <tr>\n",
       "      <th>DAL</th>\n",
       "      <td>11090</td>\n",
       "      <td>11078</td>\n",
       "      <td>12</td>\n",
       "    </tr>\n",
       "    <tr>\n",
       "      <th>SMF</th>\n",
       "      <td>5271</td>\n",
       "      <td>5260</td>\n",
       "      <td>11</td>\n",
       "    </tr>\n",
       "    <tr>\n",
       "      <th>MDW</th>\n",
       "      <td>10167</td>\n",
       "      <td>10159</td>\n",
       "      <td>8</td>\n",
       "    </tr>\n",
       "    <tr>\n",
       "      <th>CLE</th>\n",
       "      <td>1851</td>\n",
       "      <td>1844</td>\n",
       "      <td>7</td>\n",
       "    </tr>\n",
       "    <tr>\n",
       "      <th>MSY</th>\n",
       "      <td>5056</td>\n",
       "      <td>5049</td>\n",
       "      <td>7</td>\n",
       "    </tr>\n",
       "    <tr>\n",
       "      <th>SLC</th>\n",
       "      <td>3377</td>\n",
       "      <td>3372</td>\n",
       "      <td>5</td>\n",
       "    </tr>\n",
       "    <tr>\n",
       "      <th>PBI</th>\n",
       "      <td>905</td>\n",
       "      <td>901</td>\n",
       "      <td>4</td>\n",
       "    </tr>\n",
       "    <tr>\n",
       "      <th>CRP</th>\n",
       "      <td>641</td>\n",
       "      <td>637</td>\n",
       "      <td>4</td>\n",
       "    </tr>\n",
       "  </tbody>\n",
       "</table>\n",
       "</div>"
      ],
      "text/plain": [
       "     origin  destination  diff\n",
       "PHX   15186        15144    42\n",
       "HOU   12453        12430    23\n",
       "DAL   11090        11078    12\n",
       "SMF    5271         5260    11\n",
       "MDW   10167        10159     8\n",
       "CLE    1851         1844     7\n",
       "MSY    5056         5049     7\n",
       "SLC    3377         3372     5\n",
       "PBI     905          901     4\n",
       "CRP     641          637     4"
      ]
     },
     "execution_count": 23,
     "metadata": {},
     "output_type": "execute_result"
    }
   ],
   "source": [
    "# %%timeit\n",
    "# Group by origin and destination, count rows, and merge the results\n",
    "print_X(\"Origin_Count and Destination_Count over same Index/Airport\")\n",
    "\n",
    "airports_count = (\n",
    "    pd.concat(\n",
    "        [\n",
    "            df_flights['origin'].value_counts(),\n",
    "            df_flights['destination'].value_counts()\n",
    "        ],axis=1, sort=True)\n",
    "            \n",
    "            .fillna(0)\n",
    "            .assign(diff = lambda x: x['origin'] - x['destination'])\n",
    "            .sort_values(by='diff', ascending=False)\n",
    ")\n",
    "\n",
    "airports_count.query(\"origin != destination\")[:10]"
   ]
  },
  {
   "attachments": {},
   "cell_type": "markdown",
   "metadata": {},
   "source": [
    "In theory Origin_Count should be == Destination_Count. <br>\n",
    "    &nbsp; Aircraft arives and departures from the same Airport. <br>\n",
    "    &nbsp; Firstly this Airport is Destination, later, the same Airport is Origin for the same aircraft. \n",
    "    \n",
    "    🚩 In the real project it would be important to address the issue of \"lost plains\" separately, investigating correlation to blank periods / gaps in data."
   ]
  },
  {
   "cell_type": "code",
   "execution_count": 24,
   "metadata": {},
   "outputs": [
    {
     "name": "stdout",
     "output_type": "stream",
     "text": [
      ">>> Variable 'ax'............................ deleted from locals().\n",
      ">>> Variable 'fig'........................... deleted from locals().\n",
      ">>> Variable 'wiki_airports'................. deleted from locals().\n",
      ">>> Variable 'flights_by_airports_states'.... deleted from locals().\n",
      ">>> Variable 'flights_by_states'............. deleted from locals().\n",
      ">>> Variable 'airports_count'................ deleted from locals().\n"
     ]
    }
   ],
   "source": [
    "delete_variables('ax, fig, wiki_airports, flights_by_airports_states, flights_by_states, airports_count'.replace(\" \",\"\").split(\",\"))\n"
   ]
  },
  {
   "attachments": {},
   "cell_type": "markdown",
   "metadata": {},
   "source": [
    "## 3️⃣ EDA -- Flights dynamics (based on Destination) by Years. \n",
    "Trend of flights / Airports over Years"
   ]
  },
  {
   "cell_type": "code",
   "execution_count": 25,
   "metadata": {},
   "outputs": [
    {
     "data": {
      "text/html": [
       "<div>\n",
       "<style scoped>\n",
       "    .dataframe tbody tr th:only-of-type {\n",
       "        vertical-align: middle;\n",
       "    }\n",
       "\n",
       "    .dataframe tbody tr th {\n",
       "        vertical-align: top;\n",
       "    }\n",
       "\n",
       "    .dataframe thead th {\n",
       "        text-align: right;\n",
       "    }\n",
       "</style>\n",
       "<table border=\"1\" class=\"dataframe\">\n",
       "  <thead>\n",
       "    <tr style=\"text-align: right;\">\n",
       "      <th></th>\n",
       "      <th></th>\n",
       "      <th>num_flights</th>\n",
       "      <th>total_flights</th>\n",
       "    </tr>\n",
       "    <tr>\n",
       "      <th>destination</th>\n",
       "      <th>date</th>\n",
       "      <th></th>\n",
       "      <th></th>\n",
       "    </tr>\n",
       "  </thead>\n",
       "  <tbody>\n",
       "    <tr>\n",
       "      <th rowspan=\"6\" valign=\"top\">PHX</th>\n",
       "      <th>1973</th>\n",
       "      <td>1682</td>\n",
       "      <td>15144</td>\n",
       "    </tr>\n",
       "    <tr>\n",
       "      <th>1971</th>\n",
       "      <td>743</td>\n",
       "      <td>15144</td>\n",
       "    </tr>\n",
       "    <tr>\n",
       "      <th>1975</th>\n",
       "      <td>2533</td>\n",
       "      <td>15144</td>\n",
       "    </tr>\n",
       "    <tr>\n",
       "      <th>1976</th>\n",
       "      <td>2707</td>\n",
       "      <td>15144</td>\n",
       "    </tr>\n",
       "    <tr>\n",
       "      <th>1972</th>\n",
       "      <td>4467</td>\n",
       "      <td>15144</td>\n",
       "    </tr>\n",
       "    <tr>\n",
       "      <th>1974</th>\n",
       "      <td>3012</td>\n",
       "      <td>15144</td>\n",
       "    </tr>\n",
       "    <tr>\n",
       "      <th>LAS</th>\n",
       "      <th>1972</th>\n",
       "      <td>4247</td>\n",
       "      <td>14409</td>\n",
       "    </tr>\n",
       "  </tbody>\n",
       "</table>\n",
       "</div>"
      ],
      "text/plain": [
       "                  num_flights  total_flights\n",
       "destination date                            \n",
       "PHX         1973         1682          15144\n",
       "            1971          743          15144\n",
       "            1975         2533          15144\n",
       "            1976         2707          15144\n",
       "            1972         4467          15144\n",
       "            1974         3012          15144\n",
       "LAS         1972         4247          14409"
      ]
     },
     "execution_count": 25,
     "metadata": {},
     "output_type": "execute_result"
    }
   ],
   "source": [
    "df_flights_by_airport_year = (\n",
    "\n",
    "    df_flights\n",
    "        .groupby([df_flights['destination'], df_flights['date'].dt.year], as_index=False)\n",
    "        .size()\n",
    "            \n",
    "            # calc num of flights by destination and year + total flights by destination\n",
    "            .set_index('destination')\n",
    "            .rename(columns={'size': 'num_flights'})\n",
    "            .assign(total_flights=\n",
    "                df_flights.groupby(df_flights['destination']).size()\n",
    "                        )\n",
    "            \n",
    "            # adding multiindex to df\n",
    "            .reset_index()\n",
    "            .set_index(['destination', 'date'])\n",
    "            .sort_values('total_flights', ascending=False)\n",
    "            # .sort_index()\n",
    ")\n",
    "\n",
    "df_flights_by_airport_year[:7]"
   ]
  },
  {
   "cell_type": "code",
   "execution_count": 26,
   "metadata": {},
   "outputs": [
    {
     "name": "stdout",
     "output_type": "stream",
     "text": [
      "=================== [10] lagrest airports: ===================\n",
      "['PHX', 'LAS', 'HOU', 'DAL', 'BWI', 'MDW', 'LAX', 'OAK', 'BNA', 'STL']\n"
     ]
    }
   ],
   "source": [
    "n = 10\n",
    "\n",
    "list_N_lagrest_airports = (\n",
    "    df_flights_by_airport_year['total_flights']\n",
    "        .reset_index(drop=True, level=1)\n",
    "        .groupby('destination')\n",
    "        .min()\n",
    "        .sort_values(ascending=False)\n",
    "        .head(n)\n",
    "        .index.tolist()\n",
    ")\n",
    "\n",
    "print_X(f\"[{n}] lagrest airports:\")\n",
    "print(f\"{list_N_lagrest_airports}\")"
   ]
  },
  {
   "cell_type": "code",
   "execution_count": 27,
   "metadata": {},
   "outputs": [
    {
     "data": {
      "image/png": "[encoded data removed]",
      "text/plain": [
       "<Figure size 1200x800 with 12 Axes>"
      ]
     },
     "metadata": {},
     "output_type": "display_data"
    }
   ],
   "source": [
    "import matplotlib.pyplot as plt\n",
    "fig, ax = plt.subplots(nrows=int(n/3+1), ncols=3, figsize=(12, 8))\n",
    "fig.subplots_adjust(hspace=0.5)\n",
    "fig.suptitle('Number of flights by airport and year', fontsize=16, fontweight='bold')\n",
    "\n",
    "for i, airport in enumerate(list_N_lagrest_airports):\n",
    "    row = i // 3\n",
    "    col = i % 3\n",
    "    df_flights_by_airport_year.loc[airport]['num_flights'].sort_index().plot(ax=ax[row, col])\n",
    "    ax[row, col].set_title(airport, loc='center', fontweight='bold')\n",
    "    ax[row, col].set_xlabel(None)"
   ]
  },
  {
   "attachments": {},
   "cell_type": "markdown",
   "metadata": {},
   "source": [
    "😏🚩 As charts show, data was generated for each of the Years with same Airports distribution"
   ]
  },
  {
   "cell_type": "code",
   "execution_count": 28,
   "metadata": {},
   "outputs": [
    {
     "name": "stdout",
     "output_type": "stream",
     "text": [
      ">>> Variable 'airport'....................... deleted from locals().\n",
      ">>> Variable 'col'........................... deleted from locals().\n",
      ">>> Variable 'row'........................... deleted from locals().\n",
      ">>> Variable 'df_flights'.................... deleted from locals().\n",
      ">>> Variable 'df_flights_by_airport_year'.... deleted from locals().\n",
      ">>> Variable 'list_N_lagrest_airports'....... deleted from locals().\n",
      ">>> Variable 'i'............................. deleted from locals().\n",
      ">>> Variable 'n'............................. deleted from locals().\n",
      ">>> Variable 'wiki_airports_us'.............. deleted from locals().\n"
     ]
    }
   ],
   "source": [
    "delete_variables(\"airport, col, row, df_flights, df_flights_by_airport_year, list_N_lagrest_airports, i, n, wiki_airports_us\".replace(\" \", \"\").split(\",\"))"
   ]
  },
  {
   "attachments": {},
   "cell_type": "markdown",
   "metadata": {},
   "source": [
    "## 4️⃣ DA -- Delay by States / Airports / Years"
   ]
  },
  {
   "attachments": {},
   "cell_type": "markdown",
   "metadata": {},
   "source": [
    "## 5️⃣ DA -- Distance Traveled by States / Airports / Years"
   ]
  },
  {
   "attachments": {},
   "cell_type": "markdown",
   "metadata": {},
   "source": [
    "🚩 Tasks 4️⃣ and 5️⃣  are of the same type to Task 3️⃣, so no need to replicate this implementation (with little adjustments)"
   ]
  }
 ],
 "metadata": {
  "kernelspec": {
   "display_name": "altair",
   "language": "python",
   "name": "python3"
  },
  "language_info": {
   "codemirror_mode": {
    "name": "ipython",
    "version": 3
   },
   "file_extension": ".py",
   "mimetype": "text/x-python",
   "name": "python",
   "nbconvert_exporter": "python",
   "pygments_lexer": "ipython3",
   "version": "3.10.9"
  },
  "orig_nbformat": 4,
  "polyglot_notebook": {
   "kernelInfo": {
    "defaultKernelName": "csharp",
    "items": [
     {
      "aliases": [],
      "name": "csharp"
     }
    ]
   }
  }
 },
 "nbformat": 4,
 "nbformat_minor": 2
}
