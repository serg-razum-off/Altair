{
 "cells": [
  {
   "attachments": {},
   "cell_type": "markdown",
   "metadata": {},
   "source": [
    "# Video Games Dataset "
   ]
  },
  {
   "attachments": {},
   "cell_type": "markdown",
   "metadata": {},
   "source": [
    "## This Notebook is for exploring capabilities of langchain --> pandas compatible agents\n",
    "* YT video that provided pattern for using langchain agent: [[video]](https://www.youtube.com/watch?v=rFQ5Kmkd4jc) \n",
    "* Source file for the Games DF: [[source]](https://corgis-edu.github.io/corgis/csv/video_games/)"
   ]
  },
  {
   "cell_type": "code",
   "execution_count": 2,
   "metadata": {},
   "outputs": [
    {
     "name": "stdout",
     "output_type": "stream",
     "text": [
      "==================== My functions imported ====================\n"
     ]
    }
   ],
   "source": [
    "from Functions.General_Func import print_X, delete_variables\n",
    "from Functions.Plt_helpers import add_data_label\n",
    "\n",
    "print_X(\"My functions imported\")"
   ]
  },
  {
   "cell_type": "code",
   "execution_count": 3,
   "metadata": {},
   "outputs": [
    {
     "name": "stdout",
     "output_type": "stream",
     "text": [
      "================== General modules imported ==================\n"
     ]
    }
   ],
   "source": [
    "import pandas as pd\n",
    "from matplotlib import pyplot as plt\n",
    "\n",
    "from langchain.chat_models import ChatOpenAI\n",
    "from langchain.agents import create_pandas_dataframe_agent\n",
    "\n",
    "print_X(\"General modules imported\")\n"
   ]
  },
  {
   "attachments": {},
   "cell_type": "markdown",
   "metadata": {},
   "source": [
    "## 1️⃣ Loading Games Dataset, .info(), .describe()"
   ]
  },
  {
   "cell_type": "code",
   "execution_count": 4,
   "metadata": {},
   "outputs": [
    {
     "name": "stdout",
     "output_type": "stream",
     "text": [
      "================= Function to group platforms =================\n"
     ]
    }
   ],
   "source": [
    "print_X('Function to group platforms')\n",
    "\n",
    "trimed_platforms = ['Nintendo', 'PlayStation', 'Dreamcast','Xbox', 'Wii', 'PC', 'Switch', 'GameCube', 'Game Boy', '3DS', 'DS', 'PSP', 'Stadia']\n",
    "\n",
    "def trim_platforms(platform):\n",
    "    \"\"\"This function is designed to clean up platform names by 'mapping' them down to one of the pre-defined options. If part of raw name matches 'general' name this 'general' name will be returned, otherwise initial name will be returned.\"\"\"\n",
    "    for p in trimed_platforms:\n",
    "        if p.lower() in platform.lower():\n",
    "            return p\n",
    "    return platform\n"
   ]
  },
  {
   "cell_type": "code",
   "execution_count": 5,
   "metadata": {},
   "outputs": [
    {
     "name": "stdout",
     "output_type": "stream",
     "text": [
      "=== Reading DataFrame + Applying primary transformations and cleaning ===\n"
     ]
    },
    {
     "data": {
      "text/html": [
       "<div>\n",
       "<style scoped>\n",
       "    .dataframe tbody tr th:only-of-type {\n",
       "        vertical-align: middle;\n",
       "    }\n",
       "\n",
       "    .dataframe tbody tr th {\n",
       "        vertical-align: top;\n",
       "    }\n",
       "\n",
       "    .dataframe thead th {\n",
       "        text-align: right;\n",
       "    }\n",
       "</style>\n",
       "<table border=\"1\" class=\"dataframe\">\n",
       "  <thead>\n",
       "    <tr style=\"text-align: right;\">\n",
       "      <th></th>\n",
       "      <th>platform</th>\n",
       "      <th>meta_score</th>\n",
       "      <th>user_review</th>\n",
       "      <th>release_year</th>\n",
       "      <th>release_quarter</th>\n",
       "      <th>resase_month</th>\n",
       "      <th>platform_G</th>\n",
       "    </tr>\n",
       "    <tr>\n",
       "      <th>name</th>\n",
       "      <th></th>\n",
       "      <th></th>\n",
       "      <th></th>\n",
       "      <th></th>\n",
       "      <th></th>\n",
       "      <th></th>\n",
       "      <th></th>\n",
       "    </tr>\n",
       "  </thead>\n",
       "  <tbody>\n",
       "    <tr>\n",
       "      <th>The Legend of Zelda: Ocarina of Time</th>\n",
       "      <td>Nintendo 64</td>\n",
       "      <td>99</td>\n",
       "      <td>9.1</td>\n",
       "      <td>1998</td>\n",
       "      <td>4</td>\n",
       "      <td>11</td>\n",
       "      <td>Nintendo</td>\n",
       "    </tr>\n",
       "    <tr>\n",
       "      <th>Tony Hawk's Pro Skater 2</th>\n",
       "      <td>PlayStation</td>\n",
       "      <td>98</td>\n",
       "      <td>7.4</td>\n",
       "      <td>2000</td>\n",
       "      <td>3</td>\n",
       "      <td>9</td>\n",
       "      <td>PlayStation</td>\n",
       "    </tr>\n",
       "    <tr>\n",
       "      <th>Grand Theft Auto IV</th>\n",
       "      <td>PlayStation 3</td>\n",
       "      <td>98</td>\n",
       "      <td>7.7</td>\n",
       "      <td>2008</td>\n",
       "      <td>2</td>\n",
       "      <td>4</td>\n",
       "      <td>PlayStation</td>\n",
       "    </tr>\n",
       "  </tbody>\n",
       "</table>\n",
       "</div>"
      ],
      "text/plain": [
       "                                            platform  meta_score  user_review  \\\n",
       "name                                                                            \n",
       "The Legend of Zelda: Ocarina of Time     Nintendo 64          99          9.1   \n",
       "Tony Hawk's Pro Skater 2                 PlayStation          98          7.4   \n",
       "Grand Theft Auto IV                    PlayStation 3          98          7.7   \n",
       "\n",
       "                                      release_year  release_quarter  \\\n",
       "name                                                                  \n",
       "The Legend of Zelda: Ocarina of Time          1998                4   \n",
       "Tony Hawk's Pro Skater 2                      2000                3   \n",
       "Grand Theft Auto IV                           2008                2   \n",
       "\n",
       "                                      resase_month   platform_G  \n",
       "name                                                             \n",
       "The Legend of Zelda: Ocarina of Time            11     Nintendo  \n",
       "Tony Hawk's Pro Skater 2                         9  PlayStation  \n",
       "Grand Theft Auto IV                              4  PlayStation  "
      ]
     },
     "execution_count": 5,
     "metadata": {},
     "output_type": "execute_result"
    }
   ],
   "source": [
    "print_X(\"Reading DataFrame + Applying primary transformations and cleaning\")\n",
    "\n",
    "df_games = (\n",
    "    pd.read_csv('./data/all_games.csv', parse_dates=['release_date']).\n",
    "    assign(\n",
    "        release_year    =   lambda x: x['release_date'].dt.year,\n",
    "        release_quarter =   lambda x: x['release_date'].dt.quarter,\n",
    "        resase_month    =   lambda x: x['release_date'].dt.month,\n",
    "        platform_G      =   lambda x: x['platform'].apply(trim_platforms).astype('category'),\n",
    "        platform        =   lambda x: x['platform'].astype('category'),\n",
    "        meta_score      =   lambda x: x['meta_score'].fillna(0).astype('int'),\n",
    "        # df_games['user_review'] contains string values that can be converted to float and some 'tbd' values that cannot be\n",
    "        user_review     =   lambda x: pd.to_numeric(x['user_review'], errors='coerce').astype('float')\n",
    "    )\n",
    "        .drop(columns=['summary',  'release_date'])\n",
    "        .set_index('name')\n",
    ")\n",
    "\n",
    "df_games[:3]"
   ]
  },
  {
   "cell_type": "code",
   "execution_count": 6,
   "metadata": {},
   "outputs": [
    {
     "name": "stdout",
     "output_type": "stream",
     "text": [
      "======================= DataFrame info =======================\n",
      "<class 'pandas.core.frame.DataFrame'>\n",
      "Index: 18800 entries, The Legend of Zelda: Ocarina of Time to Leisure Suit Larry: Box Office Bust\n",
      "Data columns (total 7 columns):\n",
      " #   Column           Non-Null Count  Dtype   \n",
      "---  ------           --------------  -----   \n",
      " 0   platform         18800 non-null  category\n",
      " 1   meta_score       18800 non-null  int32   \n",
      " 2   user_review      17435 non-null  float64 \n",
      " 3   release_year     18800 non-null  int64   \n",
      " 4   release_quarter  18800 non-null  int64   \n",
      " 5   resase_month     18800 non-null  int64   \n",
      " 6   platform_G       18800 non-null  category\n",
      "dtypes: category(2), float64(1), int32(1), int64(3)\n",
      "memory usage: 845.9+ KB\n"
     ]
    }
   ],
   "source": [
    "print_X('DataFrame info')\n",
    "df_games.info()"
   ]
  },
  {
   "cell_type": "code",
   "execution_count": 7,
   "metadata": {},
   "outputs": [
    {
     "data": {
      "text/plain": [
       "1365"
      ]
     },
     "execution_count": 7,
     "metadata": {},
     "output_type": "execute_result"
    }
   ],
   "source": [
    "df_games['user_review'].isna().sum()"
   ]
  },
  {
   "attachments": {},
   "cell_type": "markdown",
   "metadata": {},
   "source": [
    "these `1365` are 'tbd' records, that were replaced with NaNs. So they can be dropped without any harm to the data."
   ]
  },
  {
   "cell_type": "code",
   "execution_count": 8,
   "metadata": {},
   "outputs": [],
   "source": [
    "df_games.dropna(inplace=True)"
   ]
  },
  {
   "attachments": {},
   "cell_type": "markdown",
   "metadata": {},
   "source": [
    "2️⃣ Firts analysis by Yeard and Brands"
   ]
  },
  {
   "attachments": {},
   "cell_type": "markdown",
   "metadata": {},
   "source": [
    "2️⃣-1 Games release by Years"
   ]
  },
  {
   "cell_type": "code",
   "execution_count": 63,
   "metadata": {},
   "outputs": [
    {
     "data": {
      "image/png": "[encoded data removed]",
      "text/plain": [
       "<Figure size 640x480 with 2 Axes>"
      ]
     },
     "metadata": {},
     "output_type": "display_data"
    }
   ],
   "source": [
    "fig, ax1 = plt.subplots()\n",
    "\n",
    "# plot the first series on ax1\n",
    "ax1.plot(df_games['release_year'].value_counts().sort_index(), color='b')\n",
    "ax1.set_xlabel('Release Year')\n",
    "ax1.set_ylabel('Number of Games Released', color='b')\n",
    "\n",
    "# set the y-axis scale for ax1\n",
    "ax1.tick_params(axis='y', labelcolor='b')\n",
    "\n",
    "# create a second y-axis with a different scale\n",
    "ax2 = ax1.twinx()\n",
    "\n",
    "# plot the second series on ax2 as a bar chart\n",
    "ax2.bar(df_games.groupby('release_year').count().index, \n",
    "        df_games.groupby('release_year')['platform_G'].nunique(),\n",
    "        color='g', width=0.2, alpha=0.2)\n",
    "ax2.plot(df_games.groupby('release_year')['platform_G'].nunique(),\n",
    "        color='g', alpha=0.9, marker='o', linestyle='None')\n",
    "ax2.set_ylabel('Number of Platforms', color='g')\n",
    "ax2.set_title(\"Number of Games / Platforms by Years\")\n",
    "\n",
    "# set the y-axis scale for ax2\n",
    "ax2.tick_params(axis='y', labelcolor='g') \n",
    "\n",
    "# Annotating ## found to be too verbose for easy coding\n",
    "val_counts_by_years = df_games['release_year'].value_counts().sort_index()\n",
    "\n",
    "max_value_games, max_year_games = (    val_counts_by_years.max(), val_counts_by_years.idxmax() )\n",
    "min_value_games, min_year_games = (    val_counts_by_years.min(), val_counts_by_years.idxmin() )\n",
    "last_value_games, last_year_games = (    val_counts_by_years.iloc[-1], val_counts_by_years.index[-1] )\n",
    "\n",
    "max_value_platforms, max_year_platforms = (   df_games.groupby('release_year')['platform_G'].nunique().max(),\n",
    "                                                df_games.groupby('release_year')['platform_G'].nunique().idxmax()   )\n",
    "\n",
    "add_data_label(plot=ax1,  x=max_year_games, y=max_value_games, backgrColor='lightblue', fontColor='blue')\n",
    "add_data_label(plot=ax1,  x=min_year_games, y=min_value_games, backgrColor='lightblue', fontColor='blue')\n",
    "add_data_label(plot=ax1,  x=last_year_games, y=last_value_games, shift_y=-60, backgrColor='lightblue', fontColor='blue')\n",
    "\n",
    "add_data_label(plot=ax2,  x=max_year_platforms, y=max_value_platforms, backgrColor='lightgreen', fontColor='green', shift_y=-10)"
   ]
  }
 ],
 "metadata": {
  "kernelspec": {
   "display_name": "altair",
   "language": "python",
   "name": "python3"
  },
  "language_info": {
   "codemirror_mode": {
    "name": "ipython",
    "version": 3
   },
   "file_extension": ".py",
   "mimetype": "text/x-python",
   "name": "python",
   "nbconvert_exporter": "python",
   "pygments_lexer": "ipython3",
   "version": "3.10.9"
  },
  "orig_nbformat": 4
 },
 "nbformat": 4,
 "nbformat_minor": 2
}
