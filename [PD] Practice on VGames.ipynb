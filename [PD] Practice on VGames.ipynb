{
 "cells": [
  {
   "attachments": {},
   "cell_type": "markdown",
   "metadata": {},
   "source": [
    "# Video Games Dataset "
   ]
  },
  {
   "attachments": {},
   "cell_type": "markdown",
   "metadata": {},
   "source": [
    "## This Notebook is for exploring capabilities of langchain --> pandas compatible agents\n",
    "* YT video that provided pattern for using langchain agent: [[video]](https://www.youtube.com/watch?v=rFQ5Kmkd4jc) \n",
    "* Source file for the Games DF: [[source]](https://corgis-edu.github.io/corgis/csv/video_games/)"
   ]
  },
  {
   "cell_type": "code",
   "execution_count": 12,
   "metadata": {},
   "outputs": [
    {
     "name": "stdout",
     "output_type": "stream",
     "text": [
      "==================== My functions imported ====================\n"
     ]
    }
   ],
   "source": [
    "from Functions.General_Func import print_X, delete_variables\n",
    "\n",
    "print_X(\"My functions imported\")"
   ]
  },
  {
   "cell_type": "code",
   "execution_count": 13,
   "metadata": {},
   "outputs": [
    {
     "name": "stdout",
     "output_type": "stream",
     "text": [
      "================== General modules imported ==================\n"
     ]
    }
   ],
   "source": [
    "import pandas as pd\n",
    "from langchain.chat_models import ChatOpenAI\n",
    "from langchain.agents import create_pandas_dataframe_agent\n",
    "\n",
    "print_X(\"General modules imported\")\n"
   ]
  },
  {
   "attachments": {},
   "cell_type": "markdown",
   "metadata": {},
   "source": [
    "## 1️⃣ Loading Games Dataset, .info(), .describe()"
   ]
  },
  {
   "cell_type": "code",
   "execution_count": 14,
   "metadata": {},
   "outputs": [
    {
     "name": "stdout",
     "output_type": "stream",
     "text": [
      "<class 'pandas.core.frame.DataFrame'>\n",
      "RangeIndex: 1212 entries, 0 to 1211\n",
      "Data columns (total 36 columns):\n",
      " #   Column                         Non-Null Count  Dtype  \n",
      "---  ------                         --------------  -----  \n",
      " 0   Title                          1212 non-null   object \n",
      " 1   Features.Handheld?             1212 non-null   bool   \n",
      " 2   Features.Max Players           1212 non-null   int64  \n",
      " 3   Features.Multiplatform?        1212 non-null   bool   \n",
      " 4   Features.Online?               1212 non-null   bool   \n",
      " 5   Metadata.Genres                1212 non-null   object \n",
      " 6   Metadata.Licensed?             1212 non-null   bool   \n",
      " 7   Metadata.Publishers            948 non-null    object \n",
      " 8   Metadata.Sequel?               1212 non-null   bool   \n",
      " 9   Metrics.Review Score           1212 non-null   int64  \n",
      " 10  Metrics.Sales                  1212 non-null   float64\n",
      " 11  Metrics.Used Price             1212 non-null   float64\n",
      " 12  Release.Console                1212 non-null   object \n",
      " 13  Release.Rating                 1212 non-null   object \n",
      " 14  Release.Re-release?            1212 non-null   bool   \n",
      " 15  Release.Year                   1212 non-null   int64  \n",
      " 16  Length.All PlayStyles.Average  1212 non-null   float64\n",
      " 17  Length.All PlayStyles.Leisure  1212 non-null   float64\n",
      " 18  Length.All PlayStyles.Median   1212 non-null   float64\n",
      " 19  Length.All PlayStyles.Polled   1212 non-null   int64  \n",
      " 20  Length.All PlayStyles.Rushed   1212 non-null   float64\n",
      " 21  Length.Completionists.Average  1212 non-null   float64\n",
      " 22  Length.Completionists.Leisure  1212 non-null   float64\n",
      " 23  Length.Completionists.Median   1212 non-null   float64\n",
      " 24  Length.Completionists.Polled   1212 non-null   int64  \n",
      " 25  Length.Completionists.Rushed   1212 non-null   float64\n",
      " 26  Length.Main + Extras.Average   1212 non-null   float64\n",
      " 27  Length.Main + Extras.Leisure   1212 non-null   float64\n",
      " 28  Length.Main + Extras.Median    1212 non-null   float64\n",
      " 29  Length.Main + Extras.Polled    1212 non-null   int64  \n",
      " 30  Length.Main + Extras.Rushed    1212 non-null   float64\n",
      " 31  Length.Main Story.Average      1212 non-null   float64\n",
      " 32  Length.Main Story.Leisure      1212 non-null   float64\n",
      " 33  Length.Main Story.Median       1212 non-null   float64\n",
      " 34  Length.Main Story.Polled       1212 non-null   int64  \n",
      " 35  Length.Main Story.Rushed       1212 non-null   float64\n",
      "dtypes: bool(6), float64(18), int64(7), object(5)\n",
      "memory usage: 291.3+ KB\n"
     ]
    }
   ],
   "source": [
    "df_games = pd.read_csv('./Data/video_games.csv')\n",
    "df_games.info()"
   ]
  },
  {
   "attachments": {},
   "cell_type": "markdown",
   "metadata": {},
   "source": [
    "Leaving only required columns:"
   ]
  },
  {
   "cell_type": "code",
   "execution_count": 15,
   "metadata": {},
   "outputs": [
    {
     "name": "stdout",
     "output_type": "stream",
     "text": [
      "<class 'pandas.core.frame.DataFrame'>\n",
      "RangeIndex: 1212 entries, 0 to 1211\n",
      "Data columns (total 9 columns):\n",
      " #   Column                Non-Null Count  Dtype  \n",
      "---  ------                --------------  -----  \n",
      " 0   Title                 1212 non-null   object \n",
      " 1   Metadata.Genres       1212 non-null   object \n",
      " 2   Metadata.Publishers   948 non-null    object \n",
      " 3   Metadata.Sequel?      1212 non-null   bool   \n",
      " 4   Metrics.Review Score  1212 non-null   int64  \n",
      " 5   Metrics.Sales         1212 non-null   float64\n",
      " 6   Metrics.Used Price    1212 non-null   float64\n",
      " 7   Release.Rating        1212 non-null   object \n",
      " 8   Release.Year          1212 non-null   int64  \n",
      "dtypes: bool(1), float64(2), int64(2), object(4)\n",
      "memory usage: 77.1+ KB\n"
     ]
    }
   ],
   "source": [
    "required_columns = [\n",
    "    \"Title\",\n",
    "    \"Metadata.Genres\",\n",
    "    \"Metadata.Publishers\",\n",
    "    \"Metadata.Sequel?\",\n",
    "    \"Metrics.Review Score\",\n",
    "    \"Metrics.Sales\",\n",
    "    \"Metrics.Used Price\",\n",
    "    \"Release.Rating\",\n",
    "    \"Release.Year\"\n",
    "    ]\n",
    "\n",
    "df_games = df_games[required_columns]\n",
    "df_games.info()"
   ]
  },
  {
   "cell_type": "code",
   "execution_count": 18,
   "metadata": {},
   "outputs": [
    {
     "data": {
      "text/html": [
       "<div>\n",
       "<style scoped>\n",
       "    .dataframe tbody tr th:only-of-type {\n",
       "        vertical-align: middle;\n",
       "    }\n",
       "\n",
       "    .dataframe tbody tr th {\n",
       "        vertical-align: top;\n",
       "    }\n",
       "\n",
       "    .dataframe thead th {\n",
       "        text-align: right;\n",
       "    }\n",
       "</style>\n",
       "<table border=\"1\" class=\"dataframe\">\n",
       "  <thead>\n",
       "    <tr style=\"text-align: right;\">\n",
       "      <th></th>\n",
       "      <th>Title</th>\n",
       "      <th>Metadata.Genres</th>\n",
       "      <th>Metadata.Publishers</th>\n",
       "      <th>Metadata.Sequel?</th>\n",
       "      <th>Metrics.Review Score</th>\n",
       "      <th>Metrics.Sales</th>\n",
       "      <th>Metrics.Used Price</th>\n",
       "      <th>Release.Rating</th>\n",
       "      <th>Release.Year</th>\n",
       "    </tr>\n",
       "  </thead>\n",
       "  <tbody>\n",
       "    <tr>\n",
       "      <th>0</th>\n",
       "      <td>Super Mario 64 DS</td>\n",
       "      <td>Action</td>\n",
       "      <td>Nintendo</td>\n",
       "      <td>True</td>\n",
       "      <td>85</td>\n",
       "      <td>4.69</td>\n",
       "      <td>24.95</td>\n",
       "      <td>E</td>\n",
       "      <td>2004</td>\n",
       "    </tr>\n",
       "    <tr>\n",
       "      <th>1</th>\n",
       "      <td>Lumines: Puzzle Fusion</td>\n",
       "      <td>Strategy</td>\n",
       "      <td>Ubisoft</td>\n",
       "      <td>True</td>\n",
       "      <td>89</td>\n",
       "      <td>0.56</td>\n",
       "      <td>14.95</td>\n",
       "      <td>E</td>\n",
       "      <td>2004</td>\n",
       "    </tr>\n",
       "    <tr>\n",
       "      <th>2</th>\n",
       "      <td>WarioWare Touched!</td>\n",
       "      <td>Action,Racing / Driving,Sports</td>\n",
       "      <td>Nintendo</td>\n",
       "      <td>True</td>\n",
       "      <td>81</td>\n",
       "      <td>0.54</td>\n",
       "      <td>22.95</td>\n",
       "      <td>E</td>\n",
       "      <td>2004</td>\n",
       "    </tr>\n",
       "    <tr>\n",
       "      <th>3</th>\n",
       "      <td>Hot Shots Golf: Open Tee</td>\n",
       "      <td>Sports</td>\n",
       "      <td>Sony</td>\n",
       "      <td>True</td>\n",
       "      <td>81</td>\n",
       "      <td>0.49</td>\n",
       "      <td>12.95</td>\n",
       "      <td>E</td>\n",
       "      <td>2004</td>\n",
       "    </tr>\n",
       "    <tr>\n",
       "      <th>4</th>\n",
       "      <td>Spider-Man 2</td>\n",
       "      <td>Action</td>\n",
       "      <td>Activision</td>\n",
       "      <td>True</td>\n",
       "      <td>61</td>\n",
       "      <td>0.45</td>\n",
       "      <td>14.95</td>\n",
       "      <td>E</td>\n",
       "      <td>2004</td>\n",
       "    </tr>\n",
       "  </tbody>\n",
       "</table>\n",
       "</div>"
      ],
      "text/plain": [
       "                      Title                 Metadata.Genres  \\\n",
       "0         Super Mario 64 DS                          Action   \n",
       "1    Lumines: Puzzle Fusion                        Strategy   \n",
       "2        WarioWare Touched!  Action,Racing / Driving,Sports   \n",
       "3  Hot Shots Golf: Open Tee                          Sports   \n",
       "4              Spider-Man 2                          Action   \n",
       "\n",
       "  Metadata.Publishers  Metadata.Sequel?  Metrics.Review Score  Metrics.Sales  \\\n",
       "0            Nintendo              True                    85           4.69   \n",
       "1             Ubisoft              True                    89           0.56   \n",
       "2            Nintendo              True                    81           0.54   \n",
       "3                Sony              True                    81           0.49   \n",
       "4          Activision              True                    61           0.45   \n",
       "\n",
       "   Metrics.Used Price Release.Rating  Release.Year  \n",
       "0               24.95              E          2004  \n",
       "1               14.95              E          2004  \n",
       "2               22.95              E          2004  \n",
       "3               12.95              E          2004  \n",
       "4               14.95              E          2004  "
      ]
     },
     "execution_count": 18,
     "metadata": {},
     "output_type": "execute_result"
    }
   ],
   "source": [
    "df_games[:5]"
   ]
  },
  {
   "attachments": {},
   "cell_type": "markdown",
   "metadata": {},
   "source": [
    "TODO: create data distorter + categorical data renamer, so that part of the dataset can be sent to ChGPT without commercial risks"
   ]
  }
 ],
 "metadata": {
  "kernelspec": {
   "display_name": "altair",
   "language": "python",
   "name": "python3"
  },
  "language_info": {
   "codemirror_mode": {
    "name": "ipython",
    "version": 3
   },
   "file_extension": ".py",
   "mimetype": "text/x-python",
   "name": "python",
   "nbconvert_exporter": "python",
   "pygments_lexer": "ipython3",
   "version": "3.10.9"
  },
  "orig_nbformat": 4
 },
 "nbformat": 4,
 "nbformat_minor": 2
}
