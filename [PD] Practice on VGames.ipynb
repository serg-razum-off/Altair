{
 "cells": [
  {
   "attachments": {},
   "cell_type": "markdown",
   "metadata": {},
   "source": [
    "# Video Games Dataset "
   ]
  },
  {
   "attachments": {},
   "cell_type": "markdown",
   "metadata": {},
   "source": [
    "## This Notebook is for exploring capabilities of langchain --> pandas compatible agents\n",
    "* YT video that provided pattern for using langchain agent: [[video]](https://www.youtube.com/watch?v=rFQ5Kmkd4jc) \n",
    "* Source file for the Games DF: [[source]](https://corgis-edu.github.io/corgis/csv/video_games/)"
   ]
  },
  {
   "cell_type": "code",
   "execution_count": 1,
   "metadata": {},
   "outputs": [
    {
     "name": "stdout",
     "output_type": "stream",
     "text": [
      "==================== My functions imported ====================\n"
     ]
    }
   ],
   "source": [
    "from Functions.General_Func import print_X, delete_variables\n",
    "\n",
    "print_X(\"My functions imported\")"
   ]
  },
  {
   "cell_type": "code",
   "execution_count": 2,
   "metadata": {},
   "outputs": [
    {
     "name": "stdout",
     "output_type": "stream",
     "text": [
      "================== General modules imported ==================\n"
     ]
    }
   ],
   "source": [
    "import pandas as pd\n",
    "from langchain.chat_models import ChatOpenAI\n",
    "from langchain.agents import create_pandas_dataframe_agent\n",
    "\n",
    "print_X(\"General modules imported\")\n"
   ]
  },
  {
   "attachments": {},
   "cell_type": "markdown",
   "metadata": {},
   "source": [
    "## 1️⃣ Loading Games Dataset, .info(), .describe()"
   ]
  },
  {
   "cell_type": "code",
   "execution_count": 84,
   "metadata": {},
   "outputs": [
    {
     "name": "stdout",
     "output_type": "stream",
     "text": [
      "================= Function to group platforms =================\n"
     ]
    }
   ],
   "source": [
    "print_X('Function to group platforms')\n",
    "\n",
    "trimed_platforms = ['Nintendo', 'PlayStation', 'Dreamcast','Xbox', 'Wii', 'PC', 'Switch', 'GameCube', 'Game Boy', '3DS', 'DS', 'PSP', 'Stadia']\n",
    "\n",
    "def trim_platforms(platform):\n",
    "    for p in trimed_platforms:\n",
    "        if p.lower() in platform.lower():\n",
    "            return p\n",
    "    return platform\n"
   ]
  },
  {
   "cell_type": "code",
   "execution_count": 88,
   "metadata": {},
   "outputs": [
    {
     "name": "stdout",
     "output_type": "stream",
     "text": [
      "====================== Reading DataFrame ======================\n"
     ]
    },
    {
     "data": {
      "text/html": [
       "<div>\n",
       "<style scoped>\n",
       "    .dataframe tbody tr th:only-of-type {\n",
       "        vertical-align: middle;\n",
       "    }\n",
       "\n",
       "    .dataframe tbody tr th {\n",
       "        vertical-align: top;\n",
       "    }\n",
       "\n",
       "    .dataframe thead th {\n",
       "        text-align: right;\n",
       "    }\n",
       "</style>\n",
       "<table border=\"1\" class=\"dataframe\">\n",
       "  <thead>\n",
       "    <tr style=\"text-align: right;\">\n",
       "      <th></th>\n",
       "      <th>platform</th>\n",
       "      <th>meta_score</th>\n",
       "      <th>user_review</th>\n",
       "      <th>release_year</th>\n",
       "      <th>release_quarter</th>\n",
       "      <th>resase_month</th>\n",
       "      <th>platform_G</th>\n",
       "    </tr>\n",
       "    <tr>\n",
       "      <th>name</th>\n",
       "      <th></th>\n",
       "      <th></th>\n",
       "      <th></th>\n",
       "      <th></th>\n",
       "      <th></th>\n",
       "      <th></th>\n",
       "      <th></th>\n",
       "    </tr>\n",
       "  </thead>\n",
       "  <tbody>\n",
       "    <tr>\n",
       "      <th>The Legend of Zelda: Ocarina of Time</th>\n",
       "      <td>Nintendo 64</td>\n",
       "      <td>99</td>\n",
       "      <td>9.1</td>\n",
       "      <td>1998</td>\n",
       "      <td>4</td>\n",
       "      <td>11</td>\n",
       "      <td>Nintendo</td>\n",
       "    </tr>\n",
       "    <tr>\n",
       "      <th>Tony Hawk's Pro Skater 2</th>\n",
       "      <td>PlayStation</td>\n",
       "      <td>98</td>\n",
       "      <td>7.4</td>\n",
       "      <td>2000</td>\n",
       "      <td>3</td>\n",
       "      <td>9</td>\n",
       "      <td>PlayStation</td>\n",
       "    </tr>\n",
       "    <tr>\n",
       "      <th>Grand Theft Auto IV</th>\n",
       "      <td>PlayStation 3</td>\n",
       "      <td>98</td>\n",
       "      <td>7.7</td>\n",
       "      <td>2008</td>\n",
       "      <td>2</td>\n",
       "      <td>4</td>\n",
       "      <td>PlayStation</td>\n",
       "    </tr>\n",
       "  </tbody>\n",
       "</table>\n",
       "</div>"
      ],
      "text/plain": [
       "                                            platform  meta_score  user_review  \\\n",
       "name                                                                            \n",
       "The Legend of Zelda: Ocarina of Time     Nintendo 64          99          9.1   \n",
       "Tony Hawk's Pro Skater 2                 PlayStation          98          7.4   \n",
       "Grand Theft Auto IV                    PlayStation 3          98          7.7   \n",
       "\n",
       "                                      release_year  release_quarter  \\\n",
       "name                                                                  \n",
       "The Legend of Zelda: Ocarina of Time          1998                4   \n",
       "Tony Hawk's Pro Skater 2                      2000                3   \n",
       "Grand Theft Auto IV                           2008                2   \n",
       "\n",
       "                                      resase_month   platform_G  \n",
       "name                                                             \n",
       "The Legend of Zelda: Ocarina of Time            11     Nintendo  \n",
       "Tony Hawk's Pro Skater 2                         9  PlayStation  \n",
       "Grand Theft Auto IV                              4  PlayStation  "
      ]
     },
     "execution_count": 88,
     "metadata": {},
     "output_type": "execute_result"
    }
   ],
   "source": [
    "print_X(\"Reading DataFrame\")\n",
    "\n",
    "df_games = (\n",
    "    pd.read_csv('./data/all_games.csv', parse_dates=['release_date']).\n",
    "    assign(\n",
    "        release_year=lambda x: x['release_date'].dt.year,\n",
    "        release_quarter=lambda x: x['release_date'].dt.quarter,\n",
    "        resase_month=lambda x: x['release_date'].dt.month,\n",
    "        platform_G=lambda x: x['platform'].apply(trim_platforms).astype('category'),\n",
    "        platform=lambda x: x['platform'].astype('category'),\n",
    "        meta_score=lambda x: x['meta_score'].fillna(0).astype('int'),\n",
    "        user_review=lambda x: pd.to_numeric(x['user_review'], errors='coerce').astype('float')\n",
    "    )\n",
    "        .drop(columns=['summary',  'release_date'])\n",
    "        .set_index('name')\n",
    ")\n",
    "\n",
    "df_games[:3]"
   ]
  },
  {
   "cell_type": "code",
   "execution_count": 87,
   "metadata": {},
   "outputs": [
    {
     "name": "stdout",
     "output_type": "stream",
     "text": [
      "======================= DataFrame info =======================\n",
      "<class 'pandas.core.frame.DataFrame'>\n",
      "Index: 18800 entries, The Legend of Zelda: Ocarina of Time to Leisure Suit Larry: Box Office Bust\n",
      "Data columns (total 7 columns):\n",
      " #   Column           Non-Null Count  Dtype   \n",
      "---  ------           --------------  -----   \n",
      " 0   platform         18800 non-null  category\n",
      " 1   meta_score       18800 non-null  int32   \n",
      " 2   user_review      17435 non-null  float64 \n",
      " 3   release_year     18800 non-null  int64   \n",
      " 4   release_quarter  18800 non-null  int64   \n",
      " 5   resase_month     18800 non-null  int64   \n",
      " 6   platform_G       18800 non-null  category\n",
      "dtypes: category(2), float64(1), int32(1), int64(3)\n",
      "memory usage: 845.9+ KB\n"
     ]
    }
   ],
   "source": [
    "print_X('DataFrame info')\n",
    "df_games.info()"
   ]
  },
  {
   "cell_type": "code",
   "execution_count": 78,
   "metadata": {},
   "outputs": [
    {
     "data": {
      "text/plain": [
       "1365"
      ]
     },
     "execution_count": 78,
     "metadata": {},
     "output_type": "execute_result"
    }
   ],
   "source": [
    "df_games['user_review'].isna().sum()"
   ]
  },
  {
   "attachments": {},
   "cell_type": "markdown",
   "metadata": {},
   "source": [
    "these `1365` are 'tbd' records, that were replaced with NaNs"
   ]
  },
  {
   "cell_type": "code",
   "execution_count": 89,
   "metadata": {},
   "outputs": [
    {
     "name": "stdout",
     "output_type": "stream",
     "text": [
      "=============== Dropping NaNs, Shape dfter drop ===============\n"
     ]
    },
    {
     "data": {
      "text/plain": [
       "(17435, 7)"
      ]
     },
     "execution_count": 89,
     "metadata": {},
     "output_type": "execute_result"
    }
   ],
   "source": [
    "print_X(\"Dropping NaNs, Shape dfter drop\")\n",
    "df_games.dropna(inplace=True)\n",
    "df_games.shape"
   ]
  },
  {
   "attachments": {},
   "cell_type": "markdown",
   "metadata": {},
   "source": [
    "2️⃣ Firts analysis by Yeard and Brands"
   ]
  },
  {
   "cell_type": "code",
   "execution_count": 93,
   "metadata": {},
   "outputs": [
    {
     "data": {
      "text/plain": [
       "<AxesSubplot:>"
      ]
     },
     "execution_count": 93,
     "metadata": {},
     "output_type": "execute_result"
    },
    {
     "data": {
      "image/png": "[encoded data removed]",
      "text/plain": [
       "<Figure size 640x480 with 1 Axes>"
      ]
     },
     "metadata": {},
     "output_type": "display_data"
    }
   ],
   "source": [
    "df_games['release_year'].value_counts().sort_index().plot(kind='line')"
   ]
  }
 ],
 "metadata": {
  "kernelspec": {
   "display_name": "altair",
   "language": "python",
   "name": "python3"
  },
  "language_info": {
   "codemirror_mode": {
    "name": "ipython",
    "version": 3
   },
   "file_extension": ".py",
   "mimetype": "text/x-python",
   "name": "python",
   "nbconvert_exporter": "python",
   "pygments_lexer": "ipython3",
   "version": "3.10.9"
  },
  "orig_nbformat": 4
 },
 "nbformat": 4,
 "nbformat_minor": 2
}
