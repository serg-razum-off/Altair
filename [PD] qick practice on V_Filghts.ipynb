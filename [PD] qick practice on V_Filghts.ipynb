{
 "cells": [
  {
   "attachments": {},
   "cell_type": "markdown",
   "metadata": {},
   "source": [
    "# Quick Playground for Pandas.plot() on Vega datasets"
   ]
  },
  {
   "attachments": {},
   "cell_type": "markdown",
   "metadata": {},
   "source": [
    "### Imports and loading DS"
   ]
  },
  {
   "cell_type": "code",
   "execution_count": 1,
   "metadata": {},
   "outputs": [
    {
     "name": "stdout",
     "output_type": "stream",
     "text": [
      "My functions import\n",
      "...Done\n"
     ]
    }
   ],
   "source": [
    "print(\"My functions import\")\n",
    "\n",
    "from Classes.Py.DotDict import DotDict\n",
    "from Classes.Py.SuppressStdOut import SuppressStdout\n",
    "\n",
    "from Functions.General_Func import print_X\n",
    "from Functions.Airports_Helpers import get_wiki_airports, get_wiki_airports_US\n",
    "\n",
    "print(\"...Done\")"
   ]
  },
  {
   "cell_type": "code",
   "execution_count": 2,
   "metadata": {},
   "outputs": [
    {
     "name": "stdout",
     "output_type": "stream",
     "text": [
      "======================= General Imports =======================\n",
      "...Done\n"
     ]
    }
   ],
   "source": [
    "print_X(\"General Imports\")\n",
    "\n",
    "import gc\n",
    "import pandas as pd\n",
    "import numpy as np\n",
    "from dtale import show as dt_show\n",
    "from matplotlib import pyplot as plt\n",
    "\n",
    "print(\"...Done\")"
   ]
  },
  {
   "cell_type": "code",
   "execution_count": 3,
   "metadata": {},
   "outputs": [],
   "source": [
    "df_flights = pd.read_pickle('./Data/vega_datasets.pkl').loc['flights-3m.csv']['DF']\n",
    "# df_flights = pd.read_csv('https://raw.githubusercontent.com/vega/vega-datasets/main/data/flights-3m.csv')"
   ]
  },
  {
   "cell_type": "code",
   "execution_count": 4,
   "metadata": {},
   "outputs": [
    {
     "name": "stdout",
     "output_type": "stream",
     "text": [
      "====================== Initially loaded ======================\n"
     ]
    },
    {
     "data": {
      "text/html": [
       "<div>\n",
       "<style scoped>\n",
       "    .dataframe tbody tr th:only-of-type {\n",
       "        vertical-align: middle;\n",
       "    }\n",
       "\n",
       "    .dataframe tbody tr th {\n",
       "        vertical-align: top;\n",
       "    }\n",
       "\n",
       "    .dataframe thead th {\n",
       "        text-align: right;\n",
       "    }\n",
       "</style>\n",
       "<table border=\"1\" class=\"dataframe\">\n",
       "  <thead>\n",
       "    <tr style=\"text-align: right;\">\n",
       "      <th></th>\n",
       "      <th>date</th>\n",
       "      <th>delay</th>\n",
       "      <th>distance</th>\n",
       "      <th>origin</th>\n",
       "      <th>destination</th>\n",
       "    </tr>\n",
       "  </thead>\n",
       "  <tbody>\n",
       "    <tr>\n",
       "      <th>0</th>\n",
       "      <td>1010001</td>\n",
       "      <td>14</td>\n",
       "      <td>405</td>\n",
       "      <td>MCI</td>\n",
       "      <td>MDW</td>\n",
       "    </tr>\n",
       "    <tr>\n",
       "      <th>1</th>\n",
       "      <td>1010530</td>\n",
       "      <td>-11</td>\n",
       "      <td>370</td>\n",
       "      <td>LAX</td>\n",
       "      <td>PHX</td>\n",
       "    </tr>\n",
       "    <tr>\n",
       "      <th>2</th>\n",
       "      <td>1010540</td>\n",
       "      <td>5</td>\n",
       "      <td>389</td>\n",
       "      <td>ONT</td>\n",
       "      <td>SMF</td>\n",
       "    </tr>\n",
       "  </tbody>\n",
       "</table>\n",
       "</div>"
      ],
      "text/plain": [
       "      date  delay  distance origin destination\n",
       "0  1010001     14       405    MCI         MDW\n",
       "1  1010530    -11       370    LAX         PHX\n",
       "2  1010540      5       389    ONT         SMF"
      ]
     },
     "execution_count": 4,
     "metadata": {},
     "output_type": "execute_result"
    }
   ],
   "source": [
    "# from math import ceil\n",
    "print_X(\"Initially loaded\")\n",
    "df_flights[:3]"
   ]
  },
  {
   "attachments": {},
   "cell_type": "markdown",
   "metadata": {},
   "source": [
    "### 1. EDA -- First Look at the data\n",
    "* num of Flights by Year / Month\n",
    "* mapping of Airports to States"
   ]
  },
  {
   "cell_type": "code",
   "execution_count": 5,
   "metadata": {},
   "outputs": [
    {
     "name": "stdout",
     "output_type": "stream",
     "text": [
      "======================= Converted date =======================\n"
     ]
    },
    {
     "data": {
      "text/html": [
       "<div>\n",
       "<style scoped>\n",
       "    .dataframe tbody tr th:only-of-type {\n",
       "        vertical-align: middle;\n",
       "    }\n",
       "\n",
       "    .dataframe tbody tr th {\n",
       "        vertical-align: top;\n",
       "    }\n",
       "\n",
       "    .dataframe thead th {\n",
       "        text-align: right;\n",
       "    }\n",
       "</style>\n",
       "<table border=\"1\" class=\"dataframe\">\n",
       "  <thead>\n",
       "    <tr style=\"text-align: right;\">\n",
       "      <th></th>\n",
       "      <th>date</th>\n",
       "      <th>delay</th>\n",
       "      <th>distance</th>\n",
       "      <th>origin</th>\n",
       "      <th>destination</th>\n",
       "    </tr>\n",
       "  </thead>\n",
       "  <tbody>\n",
       "    <tr>\n",
       "      <th>0</th>\n",
       "      <td>1971-12-03 09:21:00</td>\n",
       "      <td>14</td>\n",
       "      <td>405</td>\n",
       "      <td>MCI</td>\n",
       "      <td>MDW</td>\n",
       "    </tr>\n",
       "    <tr>\n",
       "      <th>1</th>\n",
       "      <td>1971-12-03 18:10:00</td>\n",
       "      <td>-11</td>\n",
       "      <td>370</td>\n",
       "      <td>LAX</td>\n",
       "      <td>PHX</td>\n",
       "    </tr>\n",
       "    <tr>\n",
       "      <th>2</th>\n",
       "      <td>1971-12-03 18:20:00</td>\n",
       "      <td>5</td>\n",
       "      <td>389</td>\n",
       "      <td>ONT</td>\n",
       "      <td>SMF</td>\n",
       "    </tr>\n",
       "  </tbody>\n",
       "</table>\n",
       "</div>"
      ],
      "text/plain": [
       "                 date  delay  distance origin destination\n",
       "0 1971-12-03 09:21:00     14       405    MCI         MDW\n",
       "1 1971-12-03 18:10:00    -11       370    LAX         PHX\n",
       "2 1971-12-03 18:20:00      5       389    ONT         SMF"
      ]
     },
     "execution_count": 5,
     "metadata": {},
     "output_type": "execute_result"
    }
   ],
   "source": [
    "print_X(\"Converted date\")\n",
    "df_flights['date'] =  pd.to_datetime(df_flights['date'], unit=\"m\")\n",
    "df_flights[:3]"
   ]
  },
  {
   "cell_type": "code",
   "execution_count": 6,
   "metadata": {},
   "outputs": [
    {
     "name": "stdout",
     "output_type": "stream",
     "text": [
      "===================== NA Count by Columns =====================\n"
     ]
    },
    {
     "data": {
      "text/plain": [
       "date           0\n",
       "delay          0\n",
       "distance       0\n",
       "origin         0\n",
       "destination    0\n",
       "dtype: int64"
      ]
     },
     "execution_count": 6,
     "metadata": {},
     "output_type": "execute_result"
    }
   ],
   "source": [
    "print_X(\"NA Count by Columns\")\n",
    "df_flights.isna().sum()"
   ]
  },
  {
   "cell_type": "code",
   "execution_count": 7,
   "metadata": {},
   "outputs": [
    {
     "name": "stdout",
     "output_type": "stream",
     "text": [
      "============================ Descr ============================\n"
     ]
    },
    {
     "data": {
      "text/html": [
       "<div>\n",
       "<style scoped>\n",
       "    .dataframe tbody tr th:only-of-type {\n",
       "        vertical-align: middle;\n",
       "    }\n",
       "\n",
       "    .dataframe tbody tr th {\n",
       "        vertical-align: top;\n",
       "    }\n",
       "\n",
       "    .dataframe thead th {\n",
       "        text-align: right;\n",
       "    }\n",
       "</style>\n",
       "<table border=\"1\" class=\"dataframe\">\n",
       "  <thead>\n",
       "    <tr style=\"text-align: right;\">\n",
       "      <th></th>\n",
       "      <th>date</th>\n",
       "      <th>delay</th>\n",
       "      <th>distance</th>\n",
       "      <th>origin</th>\n",
       "      <th>destination</th>\n",
       "    </tr>\n",
       "  </thead>\n",
       "  <tbody>\n",
       "    <tr>\n",
       "      <th>count</th>\n",
       "      <td>231083</td>\n",
       "      <td>231083.000000</td>\n",
       "      <td>231083.000000</td>\n",
       "      <td>231083</td>\n",
       "      <td>231083</td>\n",
       "    </tr>\n",
       "    <tr>\n",
       "      <th>unique</th>\n",
       "      <td>NaN</td>\n",
       "      <td>NaN</td>\n",
       "      <td>NaN</td>\n",
       "      <td>59</td>\n",
       "      <td>59</td>\n",
       "    </tr>\n",
       "    <tr>\n",
       "      <th>top</th>\n",
       "      <td>NaN</td>\n",
       "      <td>NaN</td>\n",
       "      <td>NaN</td>\n",
       "      <td>PHX</td>\n",
       "      <td>PHX</td>\n",
       "    </tr>\n",
       "    <tr>\n",
       "      <th>freq</th>\n",
       "      <td>NaN</td>\n",
       "      <td>NaN</td>\n",
       "      <td>NaN</td>\n",
       "      <td>15186</td>\n",
       "      <td>15144</td>\n",
       "    </tr>\n",
       "    <tr>\n",
       "      <th>mean</th>\n",
       "      <td>1974-02-09 14:11:09.424405952</td>\n",
       "      <td>8.014523</td>\n",
       "      <td>506.802508</td>\n",
       "      <td>NaN</td>\n",
       "      <td>NaN</td>\n",
       "    </tr>\n",
       "    <tr>\n",
       "      <th>min</th>\n",
       "      <td>1971-12-03 09:21:00</td>\n",
       "      <td>-58.000000</td>\n",
       "      <td>108.000000</td>\n",
       "      <td>NaN</td>\n",
       "      <td>NaN</td>\n",
       "    </tr>\n",
       "    <tr>\n",
       "      <th>25%</th>\n",
       "      <td>1972-05-05 08:25:00</td>\n",
       "      <td>-5.000000</td>\n",
       "      <td>283.000000</td>\n",
       "      <td>NaN</td>\n",
       "      <td>NaN</td>\n",
       "    </tr>\n",
       "    <tr>\n",
       "      <th>50%</th>\n",
       "      <td>1974-02-02 15:10:00</td>\n",
       "      <td>0.000000</td>\n",
       "      <td>370.000000</td>\n",
       "      <td>NaN</td>\n",
       "      <td>NaN</td>\n",
       "    </tr>\n",
       "    <tr>\n",
       "      <th>75%</th>\n",
       "      <td>1975-11-17 22:40:00</td>\n",
       "      <td>12.000000</td>\n",
       "      <td>611.000000</td>\n",
       "      <td>NaN</td>\n",
       "      <td>NaN</td>\n",
       "    </tr>\n",
       "    <tr>\n",
       "      <th>max</th>\n",
       "      <td>1976-04-19 04:17:00</td>\n",
       "      <td>509.000000</td>\n",
       "      <td>2298.000000</td>\n",
       "      <td>NaN</td>\n",
       "      <td>NaN</td>\n",
       "    </tr>\n",
       "    <tr>\n",
       "      <th>std</th>\n",
       "      <td>NaN</td>\n",
       "      <td>25.379112</td>\n",
       "      <td>360.631890</td>\n",
       "      <td>NaN</td>\n",
       "      <td>NaN</td>\n",
       "    </tr>\n",
       "  </tbody>\n",
       "</table>\n",
       "</div>"
      ],
      "text/plain": [
       "                                 date          delay       distance  origin  \\\n",
       "count                          231083  231083.000000  231083.000000  231083   \n",
       "unique                            NaN            NaN            NaN      59   \n",
       "top                               NaN            NaN            NaN     PHX   \n",
       "freq                              NaN            NaN            NaN   15186   \n",
       "mean    1974-02-09 14:11:09.424405952       8.014523     506.802508     NaN   \n",
       "min               1971-12-03 09:21:00     -58.000000     108.000000     NaN   \n",
       "25%               1972-05-05 08:25:00      -5.000000     283.000000     NaN   \n",
       "50%               1974-02-02 15:10:00       0.000000     370.000000     NaN   \n",
       "75%               1975-11-17 22:40:00      12.000000     611.000000     NaN   \n",
       "max               1976-04-19 04:17:00     509.000000    2298.000000     NaN   \n",
       "std                               NaN      25.379112     360.631890     NaN   \n",
       "\n",
       "       destination  \n",
       "count       231083  \n",
       "unique          59  \n",
       "top            PHX  \n",
       "freq         15144  \n",
       "mean           NaN  \n",
       "min            NaN  \n",
       "25%            NaN  \n",
       "50%            NaN  \n",
       "75%            NaN  \n",
       "max            NaN  \n",
       "std            NaN  "
      ]
     },
     "execution_count": 7,
     "metadata": {},
     "output_type": "execute_result"
    }
   ],
   "source": [
    "print_X(\"Descr\")\n",
    "df_flights.describe(include='all', datetime_is_numeric=True)"
   ]
  },
  {
   "cell_type": "code",
   "execution_count": 8,
   "metadata": {},
   "outputs": [
    {
     "name": "stdout",
     "output_type": "stream",
     "text": [
      "================ Num of flights by Year/Month ================\n"
     ]
    },
    {
     "data": {
      "text/plain": [
       "date  date\n",
       "1971  12      11021\n",
       "1972  1       11717\n",
       "      2        9983\n",
       "      3       13238\n",
       "      4        9914\n",
       "      5       10790\n",
       "      6       12548\n",
       "1973  10       2706\n",
       "      11       9939\n",
       "      12      12811\n",
       "1974  1       10408\n",
       "      2        9949\n",
       "      3       13538\n",
       "      4        9878\n",
       "      5        2589\n",
       "1975  9        5410\n",
       "      10       9839\n",
       "      11      10196\n",
       "      12      13311\n",
       "1976  1       10052\n",
       "      2       12176\n",
       "      3       11491\n",
       "      4        7579\n",
       "dtype: int64"
      ]
     },
     "execution_count": 8,
     "metadata": {},
     "output_type": "execute_result"
    }
   ],
   "source": [
    "print_X(\"Num of flights by Year/Month\")\n",
    "df_flights.groupby([df_flights['date'].dt.year, df_flights['date'].dt.month]).size()"
   ]
  },
  {
   "cell_type": "code",
   "execution_count": 9,
   "metadata": {},
   "outputs": [
    {
     "name": "stdout",
     "output_type": "stream",
     "text": [
      "==================== Flights by Year-Month ====================\n"
     ]
    },
    {
     "data": {
      "text/plain": [
       "<AxesSubplot:xlabel='date,date'>"
      ]
     },
     "execution_count": 9,
     "metadata": {},
     "output_type": "execute_result"
    },
    {
     "data": {
      "image/png": "[encoded data removed]",
      "text/plain": [
       "<Figure size 1000x300 with 1 Axes>"
      ]
     },
     "metadata": {},
     "output_type": "display_data"
    }
   ],
   "source": [
    "print_X(\"Flights by Year-Month\")\n",
    "(\n",
    "    df_flights.groupby([df_flights['date'].dt.year, df_flights['date'].dt.month])\n",
    "        .size()\n",
    "        .plot(kind='line', figsize=(10,3))\n",
    ")"
   ]
  },
  {
   "cell_type": "code",
   "execution_count": 10,
   "metadata": {},
   "outputs": [
    {
     "name": "stdout",
     "output_type": "stream",
     "text": [
      "================ Flights by Year-Month, Matrix ================\n"
     ]
    },
    {
     "data": {
      "text/html": [
       "<div>\n",
       "<style scoped>\n",
       "    .dataframe tbody tr th:only-of-type {\n",
       "        vertical-align: middle;\n",
       "    }\n",
       "\n",
       "    .dataframe tbody tr th {\n",
       "        vertical-align: top;\n",
       "    }\n",
       "\n",
       "    .dataframe thead th {\n",
       "        text-align: right;\n",
       "    }\n",
       "</style>\n",
       "<table border=\"1\" class=\"dataframe\">\n",
       "  <thead>\n",
       "    <tr style=\"text-align: right;\">\n",
       "      <th>months</th>\n",
       "      <th>1</th>\n",
       "      <th>2</th>\n",
       "      <th>3</th>\n",
       "      <th>4</th>\n",
       "      <th>5</th>\n",
       "      <th>6</th>\n",
       "      <th>9</th>\n",
       "      <th>10</th>\n",
       "      <th>11</th>\n",
       "      <th>12</th>\n",
       "    </tr>\n",
       "    <tr>\n",
       "      <th>years</th>\n",
       "      <th></th>\n",
       "      <th></th>\n",
       "      <th></th>\n",
       "      <th></th>\n",
       "      <th></th>\n",
       "      <th></th>\n",
       "      <th></th>\n",
       "      <th></th>\n",
       "      <th></th>\n",
       "      <th></th>\n",
       "    </tr>\n",
       "  </thead>\n",
       "  <tbody>\n",
       "    <tr>\n",
       "      <th>1971</th>\n",
       "      <td>NaN</td>\n",
       "      <td>NaN</td>\n",
       "      <td>NaN</td>\n",
       "      <td>NaN</td>\n",
       "      <td>NaN</td>\n",
       "      <td>NaN</td>\n",
       "      <td>NaN</td>\n",
       "      <td>NaN</td>\n",
       "      <td>NaN</td>\n",
       "      <td>11021.0</td>\n",
       "    </tr>\n",
       "    <tr>\n",
       "      <th>1972</th>\n",
       "      <td>11717.0</td>\n",
       "      <td>9983.0</td>\n",
       "      <td>13238.0</td>\n",
       "      <td>9914.0</td>\n",
       "      <td>10790.0</td>\n",
       "      <td>12548.0</td>\n",
       "      <td>NaN</td>\n",
       "      <td>NaN</td>\n",
       "      <td>NaN</td>\n",
       "      <td>NaN</td>\n",
       "    </tr>\n",
       "    <tr>\n",
       "      <th>1973</th>\n",
       "      <td>NaN</td>\n",
       "      <td>NaN</td>\n",
       "      <td>NaN</td>\n",
       "      <td>NaN</td>\n",
       "      <td>NaN</td>\n",
       "      <td>NaN</td>\n",
       "      <td>NaN</td>\n",
       "      <td>2706.0</td>\n",
       "      <td>9939.0</td>\n",
       "      <td>12811.0</td>\n",
       "    </tr>\n",
       "    <tr>\n",
       "      <th>1974</th>\n",
       "      <td>10408.0</td>\n",
       "      <td>9949.0</td>\n",
       "      <td>13538.0</td>\n",
       "      <td>9878.0</td>\n",
       "      <td>2589.0</td>\n",
       "      <td>NaN</td>\n",
       "      <td>NaN</td>\n",
       "      <td>NaN</td>\n",
       "      <td>NaN</td>\n",
       "      <td>NaN</td>\n",
       "    </tr>\n",
       "    <tr>\n",
       "      <th>1975</th>\n",
       "      <td>NaN</td>\n",
       "      <td>NaN</td>\n",
       "      <td>NaN</td>\n",
       "      <td>NaN</td>\n",
       "      <td>NaN</td>\n",
       "      <td>NaN</td>\n",
       "      <td>5410.0</td>\n",
       "      <td>9839.0</td>\n",
       "      <td>10196.0</td>\n",
       "      <td>13311.0</td>\n",
       "    </tr>\n",
       "    <tr>\n",
       "      <th>1976</th>\n",
       "      <td>10052.0</td>\n",
       "      <td>12176.0</td>\n",
       "      <td>11491.0</td>\n",
       "      <td>7579.0</td>\n",
       "      <td>NaN</td>\n",
       "      <td>NaN</td>\n",
       "      <td>NaN</td>\n",
       "      <td>NaN</td>\n",
       "      <td>NaN</td>\n",
       "      <td>NaN</td>\n",
       "    </tr>\n",
       "  </tbody>\n",
       "</table>\n",
       "</div>"
      ],
      "text/plain": [
       "months       1        2        3       4        5        6       9       10  \\\n",
       "years                                                                         \n",
       "1971        NaN      NaN      NaN     NaN      NaN      NaN     NaN     NaN   \n",
       "1972    11717.0   9983.0  13238.0  9914.0  10790.0  12548.0     NaN     NaN   \n",
       "1973        NaN      NaN      NaN     NaN      NaN      NaN     NaN  2706.0   \n",
       "1974    10408.0   9949.0  13538.0  9878.0   2589.0      NaN     NaN     NaN   \n",
       "1975        NaN      NaN      NaN     NaN      NaN      NaN  5410.0  9839.0   \n",
       "1976    10052.0  12176.0  11491.0  7579.0      NaN      NaN     NaN     NaN   \n",
       "\n",
       "months       11       12  \n",
       "years                     \n",
       "1971        NaN  11021.0  \n",
       "1972        NaN      NaN  \n",
       "1973     9939.0  12811.0  \n",
       "1974        NaN      NaN  \n",
       "1975    10196.0  13311.0  \n",
       "1976        NaN      NaN  "
      ]
     },
     "execution_count": 10,
     "metadata": {},
     "output_type": "execute_result"
    }
   ],
   "source": [
    "print_X(\"Flights by Year-Month, Matrix\")\n",
    "(\n",
    "    df_flights.groupby([df_flights['date'].dt.year, df_flights['date'].dt.month])\n",
    "        .size()\n",
    "        .unstack()\n",
    "        .rename_axis(columns='months', index='years')\n",
    ")"
   ]
  },
  {
   "attachments": {},
   "cell_type": "markdown",
   "metadata": {},
   "source": [
    "NaN periods are obvious data inconsistency"
   ]
  },
  {
   "attachments": {},
   "cell_type": "markdown",
   "metadata": {},
   "source": [
    "#### Mapping Airports to Wiki data to fetch Country"
   ]
  },
  {
   "cell_type": "code",
   "execution_count": 11,
   "metadata": {},
   "outputs": [
    {
     "name": "stdout",
     "output_type": "stream",
     "text": [
      "================ Data from Wikipedia retrieved ================\n"
     ]
    }
   ],
   "source": [
    "wiki_airports = get_wiki_airports().set_index('IATA Code')\n",
    "print_X(\"Data from Wikipedia retrieved\")"
   ]
  },
  {
   "cell_type": "code",
   "execution_count": 12,
   "metadata": {},
   "outputs": [
    {
     "name": "stdout",
     "output_type": "stream",
     "text": [
      "==================== Sampe from Wikipedia ====================\n"
     ]
    },
    {
     "data": {
      "text/plain": [
       "Continent    North America\n",
       "Country          Greenland\n",
       "Location     Kangerlussuaq\n",
       "Name: SFJ, dtype: object"
      ]
     },
     "execution_count": 12,
     "metadata": {},
     "output_type": "execute_result"
    }
   ],
   "source": [
    "print_X(\"Sampe from Wikipedia\")\n",
    "wiki_airports.loc['SFJ']"
   ]
  },
  {
   "cell_type": "code",
   "execution_count": 13,
   "metadata": {},
   "outputs": [
    {
     "name": "stdout",
     "output_type": "stream",
     "text": [
      "=================== Airports_DF Countries: ===================\n"
     ]
    },
    {
     "data": {
      "text/plain": [
       "array(['United States'], dtype=object)"
      ]
     },
     "execution_count": 13,
     "metadata": {},
     "output_type": "execute_result"
    }
   ],
   "source": [
    "print_X(\"Airports_DF Countries:\")\n",
    "(\n",
    "    pd.DataFrame(\n",
    "        df_flights['destination'].unique(), \n",
    "        columns=['IATA Code']\n",
    "            ).set_index('IATA Code')\n",
    "\n",
    "            .merge(wiki_airports, left_index=True, right_index=True)['Country']\n",
    "            .unique()\n",
    ")"
   ]
  },
  {
   "cell_type": "code",
   "execution_count": 14,
   "metadata": {},
   "outputs": [],
   "source": [
    "wiki_airports = None\n",
    "\n",
    "with SuppressStdout():\n",
    "    gc.collect()"
   ]
  },
  {
   "attachments": {},
   "cell_type": "markdown",
   "metadata": {},
   "source": [
    "...So in this dataset we have only Airports from United States..."
   ]
  },
  {
   "cell_type": "code",
   "execution_count": 2,
   "metadata": {},
   "outputs": [],
   "source": [
    "wiki_airports_us = get_wiki_airports_US()"
   ]
  },
  {
   "attachments": {},
   "cell_type": "markdown",
   "metadata": {},
   "source": [
    "### 2. EDA -- Flights from and to Airports\n",
    "Hottest Airports"
   ]
  },
  {
   "cell_type": "code",
   "execution_count": 16,
   "metadata": {},
   "outputs": [
    {
     "name": "stdout",
     "output_type": "stream",
     "text": [
      "============= Head and Tail of Destination Count =============\n"
     ]
    },
    {
     "data": {
      "image/png": "[encoded data removed]",
      "text/plain": [
       "<Figure size 1000x400 with 2 Axes>"
      ]
     },
     "metadata": {},
     "output_type": "display_data"
    }
   ],
   "source": [
    "print_X(\"Head and Tail of Destination Count\")\n",
    "fig, axs = plt.subplots(1,2, figsize=(10,4), sharey=True)\n",
    "\n",
    "df_flights_origin = df_flights['origin'].value_counts()\n",
    "\n",
    "(\n",
    "    df_flights_origin\n",
    "        .nlargest(15)\n",
    "        .sort_values(ascending=False)\n",
    "        .plot(kind='bar', ax=axs[0])\n",
    ")\n",
    "(\n",
    "    df_flights_origin\n",
    "        .nsmallest(15)\n",
    "        .sort_values(ascending=False)\n",
    "        .plot(kind='bar', ax=axs[1])\n",
    ")\n",
    "\n",
    "del df_flights_origin"
   ]
  },
  {
   "cell_type": "code",
   "execution_count": 17,
   "metadata": {},
   "outputs": [
    {
     "name": "stdout",
     "output_type": "stream",
     "text": [
      "= Origin_Count and Destination_Count over same Index/Airport =\n"
     ]
    },
    {
     "data": {
      "text/html": [
       "<div>\n",
       "<style scoped>\n",
       "    .dataframe tbody tr th:only-of-type {\n",
       "        vertical-align: middle;\n",
       "    }\n",
       "\n",
       "    .dataframe tbody tr th {\n",
       "        vertical-align: top;\n",
       "    }\n",
       "\n",
       "    .dataframe thead th {\n",
       "        text-align: right;\n",
       "    }\n",
       "</style>\n",
       "<table border=\"1\" class=\"dataframe\">\n",
       "  <thead>\n",
       "    <tr style=\"text-align: right;\">\n",
       "      <th></th>\n",
       "      <th>origin</th>\n",
       "      <th>destination</th>\n",
       "      <th>diff</th>\n",
       "    </tr>\n",
       "  </thead>\n",
       "  <tbody>\n",
       "    <tr>\n",
       "      <th>PHX</th>\n",
       "      <td>15186</td>\n",
       "      <td>15144</td>\n",
       "      <td>42</td>\n",
       "    </tr>\n",
       "    <tr>\n",
       "      <th>HOU</th>\n",
       "      <td>12453</td>\n",
       "      <td>12430</td>\n",
       "      <td>23</td>\n",
       "    </tr>\n",
       "    <tr>\n",
       "      <th>DAL</th>\n",
       "      <td>11090</td>\n",
       "      <td>11078</td>\n",
       "      <td>12</td>\n",
       "    </tr>\n",
       "    <tr>\n",
       "      <th>SMF</th>\n",
       "      <td>5271</td>\n",
       "      <td>5260</td>\n",
       "      <td>11</td>\n",
       "    </tr>\n",
       "    <tr>\n",
       "      <th>MDW</th>\n",
       "      <td>10167</td>\n",
       "      <td>10159</td>\n",
       "      <td>8</td>\n",
       "    </tr>\n",
       "    <tr>\n",
       "      <th>CLE</th>\n",
       "      <td>1851</td>\n",
       "      <td>1844</td>\n",
       "      <td>7</td>\n",
       "    </tr>\n",
       "    <tr>\n",
       "      <th>MSY</th>\n",
       "      <td>5056</td>\n",
       "      <td>5049</td>\n",
       "      <td>7</td>\n",
       "    </tr>\n",
       "    <tr>\n",
       "      <th>SLC</th>\n",
       "      <td>3377</td>\n",
       "      <td>3372</td>\n",
       "      <td>5</td>\n",
       "    </tr>\n",
       "    <tr>\n",
       "      <th>PBI</th>\n",
       "      <td>905</td>\n",
       "      <td>901</td>\n",
       "      <td>4</td>\n",
       "    </tr>\n",
       "    <tr>\n",
       "      <th>CRP</th>\n",
       "      <td>641</td>\n",
       "      <td>637</td>\n",
       "      <td>4</td>\n",
       "    </tr>\n",
       "  </tbody>\n",
       "</table>\n",
       "</div>"
      ],
      "text/plain": [
       "     origin  destination  diff\n",
       "PHX   15186        15144    42\n",
       "HOU   12453        12430    23\n",
       "DAL   11090        11078    12\n",
       "SMF    5271         5260    11\n",
       "MDW   10167        10159     8\n",
       "CLE    1851         1844     7\n",
       "MSY    5056         5049     7\n",
       "SLC    3377         3372     5\n",
       "PBI     905          901     4\n",
       "CRP     641          637     4"
      ]
     },
     "execution_count": 17,
     "metadata": {},
     "output_type": "execute_result"
    }
   ],
   "source": [
    "# Group by origin and destination, count rows, and merge the results\n",
    "print_X(\"Origin_Count and Destination_Count over same Index/Airport\")\n",
    "\n",
    "airports_count = (\n",
    "    pd.concat(\n",
    "        [\n",
    "            df_flights.groupby('origin').size().rename('origin'),\n",
    "            df_flights.groupby('destination').size().rename('destination')\n",
    "        ],axis=1, sort=True)\n",
    "            .fillna(0)\n",
    "            .assign(diff = lambda x: x['origin'] - x['destination'])\n",
    "            .sort_values(by='diff', ascending=False)\n",
    ")\n",
    "\n",
    "\n",
    "airports_count.query(\"origin != destination\")[:10]"
   ]
  },
  {
   "attachments": {},
   "cell_type": "markdown",
   "metadata": {},
   "source": [
    "In theory Origin_Count should be == Destination_Count. <br>\n",
    "    &nbsp; Aircraft arives and departures from the same Airport. <br>\n",
    "    &nbsp; Firstly this Airport is Destination, later, the same Airport is Origin for the same aircraft. \n",
    "    \n",
    "    So in the real world this issue should be addressed as data inconsistency"
   ]
  },
  {
   "attachments": {},
   "cell_type": "markdown",
   "metadata": {},
   "source": [
    "### EDA -- Flights / Destination by Years. \n",
    "Trend of the hottest Airports"
   ]
  },
  {
   "cell_type": "code",
   "execution_count": null,
   "metadata": {},
   "outputs": [],
   "source": []
  }
 ],
 "metadata": {
  "kernelspec": {
   "display_name": "altair",
   "language": "python",
   "name": "python3"
  },
  "language_info": {
   "codemirror_mode": {
    "name": "ipython",
    "version": 3
   },
   "file_extension": ".py",
   "mimetype": "text/x-python",
   "name": "python",
   "nbconvert_exporter": "python",
   "pygments_lexer": "ipython3",
   "version": "3.10.9"
  },
  "orig_nbformat": 4,
  "polyglot_notebook": {
   "kernelInfo": {
    "defaultKernelName": "csharp",
    "items": [
     {
      "aliases": [],
      "name": "csharp"
     }
    ]
   }
  }
 },
 "nbformat": 4,
 "nbformat_minor": 2
}
